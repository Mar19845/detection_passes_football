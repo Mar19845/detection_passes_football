{
 "cells": [
  {
   "cell_type": "markdown",
   "id": "57ddaf55",
   "metadata": {},
   "source": [
    "## Universidad del Valle de Guatemala\n",
    "##### Integrantes\n",
    "* Juan Manuel Marroquin Alfaro 19845\n",
    "* Carlos Alberto Raxtúm Ramos 19721\n",
    "* Jose Abraham Gutierrez Corado 19111\n",
    "* Walter Danilo Saldaña Salguero 19897\n",
    "* Javier Alejandro Cotto Argueta 19324"
   ]
  },
  {
   "cell_type": "markdown",
   "id": "f59f65fc",
   "metadata": {},
   "source": [
    "## Investigación de PLN y Sistemas de Recomendación"
   ]
  },
  {
   "cell_type": "markdown",
   "id": "32e75fc9",
   "metadata": {},
   "source": [
    "Primeramente, la base de datos que escogimos esta basada en grabaciones de partidos de futbol de la liga alemana. Donde estos videos estan transcribidos\n",
    "de forma que cada evento que ocurra en el partido se almacena, junto a su tiempo del evento(en segundo) y con su tipo de evento(pase, perdida/ganancia de posesión,\n",
    "inicio y fin de la jugada, tiro libre, entre otras más). En base a esto, podemos detectar y reconocer cada tipo de evento que ocurra en un partido, en este caso\n",
    "detectaremos lo que son los pases.\n",
    "\n",
    "### Como parte de las tecnicas usadas para el Procesamiento de Lenguaje Natural, existen varias:\n",
    "\n",
    "- Tokenizar\n",
    "Esta tecnica consiste en separar cada palabra del texto  en entidades llamadas \"tokens\", de esta forma tendremos un mejor orden al trabajar con estas. Ademas de ello\n",
    "a la hora de utilizar esta tecnica, se requiere identificar que utilizaremos como token y que no, por ejemplo contar las mayusculas y minusculas como un token o dos, \n",
    "los signos de puntuación seran tokens o no, y asi sucesivamente con cualquier letra o simbolo dentro de nuestras palabras.\n",
    "\n",
    "- Tagging Part of Speech(PoS)\n",
    "Esta tecnica se le conoce asi porque practicamente es trabajar las palabras como lo hacemos en la \"vida real\". Esto se debe a que clasificamos y reconocemos oraciones\n",
    "mediante separarlas en articulo, verbo, sustantivo, adjetivo, entre otras más.\n",
    "\n",
    "- Shallow parsing\n",
    "Esta tecnica combina las dos anteriores, esto se debe a que con cada token obtenido y con cada clasificación hecha mediante PoS, se realiza un arbol que permite a la\n",
    "computadora, navegar y moverse por el facilitando asi el entendimieno del lenguaje común para formar oraciones y con ellas parrafos.\n",
    "\n",
    "- Pragmatic Analysis\n",
    "Esta tecnica es más complicada para implemenetar, pues ademas de las anteriores, se incluye una clasificación de el como se mencionan o dicen las cosas. Esto quiere decir\n",
    "que la tecnica se basa en interpretar el modo de las palabras, tales como sarcasmo, ironía, etc.\n",
    "\n",
    "- Bag of Words\n",
    "Esta tecnica combina el Tokenizar con el uso de matrices. Prácticamente llevara un conteo de las palabras que aparezcan en cierto parrafo mediante los tokens antes recabados.\n",
    "\n",
    "- word2vec\n",
    "Esta tecnica creemos que es una de las más eficientes, ya que recaba y memoriza cientos y cientos de palabras utilizadas en diferentes contextos. En base a estas, realiza\n",
    "matrices de 300 dimensiones, las cuales guardan cada palabra cerca de otras palabras similares y de esta forma crear vocabularios que pueden ser utilizados por la \n",
    "computadora para interpretar cualquier parrafo.\n"
   ]
  },
  {
   "cell_type": "markdown",
   "id": "0072bd16",
   "metadata": {},
   "source": [
    "# Problema planteado y datos\n",
    "\n",
    "El problema es que hoy en día, la información y estadísticas de los partidos de fútbol son generados de forma manual por operadores humanos en tiempo real. Por la naturaleza de estos datos, son exclusivos para el uso de los profesionales que generan y por ende son dueños de los mismos datos o para competencias profesionales. Sin embargo, esta data sería muy valiosa para otras aplicaciones como por ejemplo para el fichaje y descrubrimiento de talento jóven, que quizá aún no tengan mucha visibilidad para las grandes organizaciones y por lo tanto no generen sufiecientes datos estadísticos para tener visibilidad y que no pasen por alto.\n",
    "\n",
    "Para esto se nos pide poder detectar en videos de forma automática los pases en un partido inlcuyendose saques de banda y centros; y enfrentamientos entre jugadores de equipos contrarios en sus diferentes categorías (falta, robo de balón, entre otros), pasa así poder analizar competiciones inexploradas, como ligas juveniles o semiprofesionales o incluso sesiones de entrenamiento para así poder identificar talento oculto.\n",
    "\n",
    "Los datos obtenidos de los clips de video nos serán de ayuda para entrenar un modelo que logre clasificar los eventos del partido en las categorías indicadas en función del tiempo del partido para así poder identificar los eventos de interes a los solicitados por los fichadores."
   ]
  },
  {
   "cell_type": "markdown",
   "id": "43242e72",
   "metadata": {},
   "source": [
    "### Importar Librearías"
   ]
  },
  {
   "cell_type": "code",
   "execution_count": 1,
   "id": "4b6d15c2",
   "metadata": {},
   "outputs": [],
   "source": [
    "import os\n",
    "import pandas as pd\n",
    "import numpy as np\n",
    "import matplotlib.pyplot as plt\n",
    "from sklearn import datasets\n",
    "from scipy.stats import norm\n",
    "import scipy.stats as stats\n",
    "import seaborn as sns\n",
    "from moviepy.video.io.ffmpeg_tools import ffmpeg_extract_subclip\n",
    "from IPython.display import Video\n",
    "from pandas_profiling import ProfileReport\n",
    "from helper import *\n",
    "%matplotlib inline"
   ]
  },
  {
   "cell_type": "markdown",
   "id": "b054617c",
   "metadata": {},
   "source": [
    "### Analisis Exploratorio"
   ]
  },
  {
   "cell_type": "code",
   "execution_count": 2,
   "id": "be463996",
   "metadata": {},
   "outputs": [],
   "source": [
    "pd.set_option(\"display.max_columns\", None)"
   ]
  },
  {
   "cell_type": "code",
   "execution_count": 3,
   "id": "e825ae15",
   "metadata": {},
   "outputs": [],
   "source": [
    "df = pd.read_csv('./videos/train.csv',low_memory=False)\n",
    "# convert Nan to empty list\n",
    "df[['event_attributes']] = df[['event_attributes']].fillna('')"
   ]
  },
  {
   "cell_type": "markdown",
   "id": "b1b47191",
   "metadata": {},
   "source": [
    "####  Cantidad de existencia de cada evento"
   ]
  },
  {
   "cell_type": "code",
   "execution_count": 4,
   "id": "0e5dcc9b",
   "metadata": {},
   "outputs": [
    {
     "data": {
      "text/plain": [
       "<AxesSubplot:xlabel='count', ylabel='event'>"
      ]
     },
     "execution_count": 4,
     "metadata": {},
     "output_type": "execute_result"
    },
    {
     "data": {
      "image/png": "[encoded data removed]",
      "text/plain": [
       "<Figure size 1152x360 with 1 Axes>"
      ]
     },
     "metadata": {
      "needs_background": "light"
     },
     "output_type": "display_data"
    }
   ],
   "source": [
    "plt.figure(figsize=(16, 5))\n",
    "sns.countplot(data=df, y=\"event\")"
   ]
  },
  {
   "cell_type": "markdown",
   "id": "61afdb87",
   "metadata": {},
   "source": [
    "#### Muestreo de los eventos en cierto video"
   ]
  },
  {
   "cell_type": "code",
   "execution_count": 5,
   "id": "a6451436",
   "metadata": {},
   "outputs": [
    {
     "data": {
      "text/plain": [
       "<AxesSubplot:xlabel='count', ylabel='video_id'>"
      ]
     },
     "execution_count": 5,
     "metadata": {},
     "output_type": "execute_result"
    },
    {
     "data": {
      "image/png": "[encoded data removed]",
      "text/plain": [
       "<Figure size 1152x360 with 1 Axes>"
      ]
     },
     "metadata": {
      "needs_background": "light"
     },
     "output_type": "display_data"
    }
   ],
   "source": [
    "plt.figure(figsize=(16, 5))\n",
    "sns.countplot(data=df, y=\"video_id\")"
   ]
  },
  {
   "cell_type": "markdown",
   "id": "d1d89d5f",
   "metadata": {},
   "source": [
    "#### Duración de eventos"
   ]
  },
  {
   "cell_type": "code",
   "execution_count": 6,
   "id": "051f4185",
   "metadata": {},
   "outputs": [
    {
     "data": {
      "text/plain": [
       "<AxesSubplot:xlabel='count', ylabel='video_id'>"
      ]
     },
     "execution_count": 6,
     "metadata": {},
     "output_type": "execute_result"
    },
    {
     "data": {
      "image/png": "[encoded data removed]",
      "text/plain": [
       "<Figure size 1152x360 with 1 Axes>"
      ]
     },
     "metadata": {
      "needs_background": "light"
     },
     "output_type": "display_data"
    }
   ],
   "source": [
    "plt.figure(figsize=(16, 5))\n",
    "sns.countplot(data=df[(df[\"event\"] != \"start\") & (df[\"event\"] != \"end\")], y=\"video_id\")"
   ]
  },
  {
   "cell_type": "markdown",
   "id": "09ef2a1f",
   "metadata": {},
   "source": [
    "## Eventos existentes en el dataset"
   ]
  },
  {
   "cell_type": "markdown",
   "id": "d4995e44",
   "metadata": {},
   "source": [
    "### Visualizador de eventos"
   ]
  },
  {
   "cell_type": "markdown",
   "id": "64415278",
   "metadata": {},
   "source": [
    "### Throwing"
   ]
  },
  {
   "cell_type": "markdown",
   "id": "ccedf109",
   "metadata": {},
   "source": [
    "Un saque de banda se refiere a una situación en la que el juego se reinicia después de que el balón salió de juego por la línea de banda tras el toque del equipo contrario. El balón debe lanzarse con las manos, por detrás y por encima de la cabeza del jugador ejecutor."
   ]
  },
  {
   "cell_type": "code",
   "execution_count": 7,
   "id": "83e5cf00",
   "metadata": {},
   "outputs": [],
   "source": [
    "df_throwin = df[df[\"event\"] == \"throwin\"].reset_index()"
   ]
  },
  {
   "cell_type": "markdown",
   "id": "0602a9cc",
   "metadata": {},
   "source": [
    "Visualización de los eventos que perteneces a Throwing"
   ]
  },
  {
   "cell_type": "code",
   "execution_count": 8,
   "id": "33046cfa",
   "metadata": {},
   "outputs": [
    {
     "data": {
      "text/plain": [
       "<AxesSubplot:xlabel='count', ylabel='event_attributes'>"
      ]
     },
     "execution_count": 8,
     "metadata": {},
     "output_type": "execute_result"
    },
    {
     "data": {
      "image/png": "[encoded data removed]",
      "text/plain": [
       "<Figure size 1152x216 with 1 Axes>"
      ]
     },
     "metadata": {
      "needs_background": "light"
     },
     "output_type": "display_data"
    }
   ],
   "source": [
    "plt.figure(figsize=(16, 3))\n",
    "sns.countplot(data=df_throwin, y=\"event_attributes\")"
   ]
  },
  {
   "cell_type": "markdown",
   "id": "94c6e152",
   "metadata": {},
   "source": [
    "Visualización de los eventos que perteneces a Throwing según el ID del video"
   ]
  },
  {
   "cell_type": "code",
   "execution_count": 9,
   "id": "59a3ddc9",
   "metadata": {},
   "outputs": [
    {
     "data": {
      "text/plain": [
       "<AxesSubplot:xlabel='video_id', ylabel='count'>"
      ]
     },
     "execution_count": 9,
     "metadata": {},
     "output_type": "execute_result"
    },
    {
     "data": {
      "image/png": "[encoded data removed]",
      "text/plain": [
       "<Figure size 1152x432 with 1 Axes>"
      ]
     },
     "metadata": {
      "needs_background": "light"
     },
     "output_type": "display_data"
    }
   ],
   "source": [
    "plt.figure(figsize=(16, 6))\n",
    "sns.countplot(data=df_throwin, x=\"video_id\", hue=\"event_attributes\")"
   ]
  },
  {
   "cell_type": "markdown",
   "id": "6b7f2be0",
   "metadata": {},
   "source": [
    "#### Pase"
   ]
  },
  {
   "cell_type": "markdown",
   "id": "92f734be",
   "metadata": {},
   "source": [
    "Definido como cualquier intento de cambiar el control del balón a otro miembro del equipo que no satisface la definición cruzada."
   ]
  },
  {
   "cell_type": "code",
   "execution_count": 10,
   "id": "f901aa25",
   "metadata": {},
   "outputs": [
    {
     "name": "stdout",
     "output_type": "stream",
     "text": [
      "['pass']\n",
      "Moviepy - Running:\n",
      ">>> \"+ \" \".join(cmd)\n",
      "Moviepy - Command successful\n"
     ]
    },
    {
     "data": {
      "text/html": [
       "<video src=\"./videos/throwin/test_7.mp4\" controls  width=\"800\" >\n",
       "      Your browser does not support the <code>video</code> element.\n",
       "    </video>"
      ],
      "text/plain": [
       "<IPython.core.display.Video object>"
      ]
     },
     "execution_count": 10,
     "metadata": {},
     "output_type": "execute_result"
    }
   ],
   "source": [
    "create_video(df_throwin.iloc[0],'throwin')"
   ]
  },
  {
   "cell_type": "markdown",
   "id": "e46c56ab-0306-4d2e-a49e-4240bd40f2c3",
   "metadata": {},
   "source": [
    "#### Centro/ Cross"
   ]
  },
  {
   "cell_type": "markdown",
   "id": "73f53bea-692a-4be4-9a15-51835004c144",
   "metadata": {},
   "source": [
    "El hecho de que una jugada sea una centro depende de las posiciones del jugador que actúa y del posible destinatario. El jugador que juega el centro debe estar ubicado aprox. dentro de una de las cuatro zonas de cruce. Las cuatro zonas están delimitadas por las líneas de banda, la prolongación del área penal, las líneas de meta y los cuartos de cancha imaginarios, que se trazarían a una cuarta parte de la longitud del terreno de juego paralelas a la línea de mitad de cancha (ver la siguiente figura). El posible destinatario del centro debe estar ubicado aprox. dentro del área penal. Además, la distancia de la pelota jugada debe ser de longitud media (de 10 a 30 metros) o larga (más de 30 metros) y la altura de la pelota jugada debe ser alta (se juega por encima de la altura de la rodilla). Para clasificar una pelota jugada como un centro si la pelota es bloqueada por un jugador contrario, no es decisiva la altura real o la distancia recorrida, sino la altura o distancia prevista."
   ]
  },
  {
   "cell_type": "code",
   "execution_count": 11,
   "id": "6c0eac83-6539-4549-87c7-f22c0b85e0e0",
   "metadata": {},
   "outputs": [
    {
     "name": "stdout",
     "output_type": "stream",
     "text": [
      "['cross']\n",
      "Moviepy - Running:\n",
      ">>> \"+ \" \".join(cmd)\n",
      "Moviepy - Command successful\n"
     ]
    },
    {
     "data": {
      "text/html": [
       "<video src=\"./videos/throwin/test_119.mp4\" controls  width=\"800\" >\n",
       "      Your browser does not support the <code>video</code> element.\n",
       "    </video>"
      ],
      "text/plain": [
       "<IPython.core.display.Video object>"
      ]
     },
     "execution_count": 11,
     "metadata": {},
     "output_type": "execute_result"
    }
   ],
   "source": [
    "create_video(df_throwin.iloc[2],'throwin')"
   ]
  },
  {
   "cell_type": "markdown",
   "id": "a06448f9-f894-4933-891e-5afeb7674903",
   "metadata": {},
   "source": [
    "### Play"
   ]
  },
  {
   "cell_type": "markdown",
   "id": "8f7eb4c7-096d-49ec-83f0-44df67cfdea5",
   "metadata": {},
   "source": [
    "Una jugada describe el intento de un jugador de cambiar el control del balón a otro miembro de su equipo. Un evento de juego puede ejecutarse como pase o como centro."
   ]
  },
  {
   "cell_type": "markdown",
   "id": "98e20f5f-c6e2-4e79-87b1-ffd7c1f697d2",
   "metadata": {},
   "source": [
    "Visualización de los eventos que perteneces a Open Play"
   ]
  },
  {
   "cell_type": "code",
   "execution_count": 12,
   "id": "0bb190f5-dd77-47e4-9d34-1b29b0e12cc7",
   "metadata": {},
   "outputs": [],
   "source": [
    "df_play = df[df[\"event\"] == \"play\"].reset_index()"
   ]
  },
  {
   "cell_type": "code",
   "execution_count": 13,
   "id": "49cc040d-3210-42fd-b7c5-c8ab771fc557",
   "metadata": {},
   "outputs": [
    {
     "data": {
      "text/plain": [
       "<AxesSubplot:xlabel='count', ylabel='event_attributes'>"
      ]
     },
     "execution_count": 13,
     "metadata": {},
     "output_type": "execute_result"
    },
    {
     "data": {
      "image/png": "[encoded data removed]",
      "text/plain": [
       "<Figure size 1152x216 with 1 Axes>"
      ]
     },
     "metadata": {
      "needs_background": "light"
     },
     "output_type": "display_data"
    }
   ],
   "source": [
    "plt.figure(figsize=(16, 3))\n",
    "sns.countplot(data=df_play, y=\"event_attributes\")"
   ]
  },
  {
   "cell_type": "code",
   "execution_count": 14,
   "id": "e502a4ad-e3bd-4651-b001-2a0ac6a76d4e",
   "metadata": {},
   "outputs": [
    {
     "data": {
      "text/plain": [
       "<AxesSubplot:xlabel='video_id', ylabel='count'>"
      ]
     },
     "execution_count": 14,
     "metadata": {},
     "output_type": "execute_result"
    },
    {
     "data": {
      "image/png": "[encoded data removed]",
      "text/plain": [
       "<Figure size 1152x432 with 1 Axes>"
      ]
     },
     "metadata": {
      "needs_background": "light"
     },
     "output_type": "display_data"
    }
   ],
   "source": [
    "plt.figure(figsize=(16, 6))\n",
    "sns.countplot(data=df_play, x=\"video_id\", hue=\"event_attributes\")"
   ]
  },
  {
   "cell_type": "code",
   "execution_count": 15,
   "id": "91420243-faef-4b76-a1fe-8ea0c3f705d8",
   "metadata": {},
   "outputs": [
    {
     "data": {
      "text/html": [
       "<div>\n",
       "<style scoped>\n",
       "    .dataframe tbody tr th:only-of-type {\n",
       "        vertical-align: middle;\n",
       "    }\n",
       "\n",
       "    .dataframe tbody tr th {\n",
       "        vertical-align: top;\n",
       "    }\n",
       "\n",
       "    .dataframe thead th {\n",
       "        text-align: right;\n",
       "    }\n",
       "</style>\n",
       "<table border=\"1\" class=\"dataframe\">\n",
       "  <thead>\n",
       "    <tr style=\"text-align: right;\">\n",
       "      <th></th>\n",
       "      <th>index</th>\n",
       "      <th>video_id</th>\n",
       "      <th>time</th>\n",
       "      <th>event</th>\n",
       "      <th>event_attributes</th>\n",
       "    </tr>\n",
       "  </thead>\n",
       "  <tbody>\n",
       "    <tr>\n",
       "      <th>0</th>\n",
       "      <td>10</td>\n",
       "      <td>1606b0e6_0</td>\n",
       "      <td>224.43</td>\n",
       "      <td>play</td>\n",
       "      <td>['pass', 'openplay']</td>\n",
       "    </tr>\n",
       "    <tr>\n",
       "      <th>1</th>\n",
       "      <td>13</td>\n",
       "      <td>1606b0e6_0</td>\n",
       "      <td>229.39</td>\n",
       "      <td>play</td>\n",
       "      <td>['pass', 'openplay']</td>\n",
       "    </tr>\n",
       "    <tr>\n",
       "      <th>2</th>\n",
       "      <td>16</td>\n",
       "      <td>1606b0e6_0</td>\n",
       "      <td>236.71</td>\n",
       "      <td>play</td>\n",
       "      <td>['pass', 'openplay']</td>\n",
       "    </tr>\n",
       "    <tr>\n",
       "      <th>3</th>\n",
       "      <td>17</td>\n",
       "      <td>1606b0e6_0</td>\n",
       "      <td>239.35</td>\n",
       "      <td>play</td>\n",
       "      <td>['pass', 'openplay']</td>\n",
       "    </tr>\n",
       "    <tr>\n",
       "      <th>4</th>\n",
       "      <td>20</td>\n",
       "      <td>1606b0e6_0</td>\n",
       "      <td>242.39</td>\n",
       "      <td>play</td>\n",
       "      <td>['pass', 'openplay']</td>\n",
       "    </tr>\n",
       "  </tbody>\n",
       "</table>\n",
       "</div>"
      ],
      "text/plain": [
       "   index    video_id    time event      event_attributes\n",
       "0     10  1606b0e6_0  224.43  play  ['pass', 'openplay']\n",
       "1     13  1606b0e6_0  229.39  play  ['pass', 'openplay']\n",
       "2     16  1606b0e6_0  236.71  play  ['pass', 'openplay']\n",
       "3     17  1606b0e6_0  239.35  play  ['pass', 'openplay']\n",
       "4     20  1606b0e6_0  242.39  play  ['pass', 'openplay']"
      ]
     },
     "execution_count": 15,
     "metadata": {},
     "output_type": "execute_result"
    }
   ],
   "source": [
    "df_play.head()"
   ]
  },
  {
   "cell_type": "markdown",
   "id": "1909c20f-7099-4249-a7a0-ba5c37efc604",
   "metadata": {},
   "source": [
    "#### Jugada/ Open play"
   ]
  },
  {
   "cell_type": "markdown",
   "id": "5111b3b6-1d7e-4d95-a462-73fef922ca9e",
   "metadata": {},
   "source": [
    "Una jugada abierta se refiere a cualquier jugada que se ejecuta en juego y no en una situación de balón muerto (como un saque de esquina, un tiro libre o cualquier otra jugada a balón parado)."
   ]
  },
  {
   "cell_type": "markdown",
   "id": "fb27e1a2-680c-4632-a64b-9dfc6cea335b",
   "metadata": {},
   "source": [
    "#### Pass and Open play"
   ]
  },
  {
   "cell_type": "code",
   "execution_count": 16,
   "id": "74832c4f-d23b-4849-a67b-74fb6b5d2943",
   "metadata": {},
   "outputs": [
    {
     "name": "stdout",
     "output_type": "stream",
     "text": [
      "['pass', 'openplay']\n",
      "Moviepy - Running:\n",
      ">>> \"+ \" \".join(cmd)\n",
      "Moviepy - Command successful\n"
     ]
    },
    {
     "data": {
      "text/html": [
       "<video src=\"./videos/play/test_10.mp4\" controls  width=\"800\" >\n",
       "      Your browser does not support the <code>video</code> element.\n",
       "    </video>"
      ],
      "text/plain": [
       "<IPython.core.display.Video object>"
      ]
     },
     "execution_count": 16,
     "metadata": {},
     "output_type": "execute_result"
    }
   ],
   "source": [
    "create_video(df_play.iloc[0],'play',before=2, after=2)"
   ]
  },
  {
   "cell_type": "markdown",
   "id": "6b8f3309-960e-4cd0-8946-a2232323843d",
   "metadata": {},
   "source": [
    "#### Cross and Open play"
   ]
  },
  {
   "cell_type": "code",
   "execution_count": 17,
   "id": "c3f28839-2e55-43a1-b830-862007fab3ee",
   "metadata": {},
   "outputs": [
    {
     "name": "stdout",
     "output_type": "stream",
     "text": [
      "['cross', 'openplay']\n",
      "Moviepy - Running:\n",
      ">>> \"+ \" \".join(cmd)\n",
      "Moviepy - Command successful\n"
     ]
    },
    {
     "data": {
      "text/html": [
       "<video src=\"./videos/play/test_43.mp4\" controls  width=\"800\" >\n",
       "      Your browser does not support the <code>video</code> element.\n",
       "    </video>"
      ],
      "text/plain": [
       "<IPython.core.display.Video object>"
      ]
     },
     "execution_count": 17,
     "metadata": {},
     "output_type": "execute_result"
    }
   ],
   "source": [
    "create_video(df_play.iloc[15], 'play',before=2, after=2)"
   ]
  },
  {
   "cell_type": "markdown",
   "id": "88e98ef3-377f-4503-b434-817c0671396e",
   "metadata": {},
   "source": [
    "#### Pass and free kick"
   ]
  },
  {
   "cell_type": "markdown",
   "id": "f5323735-70b6-4c97-9c14-f761b1d36155",
   "metadata": {},
   "source": [
    "Un Free Kick se refiere a una situación en la que se ejecuta la jugada para reiniciar el juego después de que el árbitro lo detuvo debido a una infracción de las reglas. La pelota debe patearse y estar estacionaria en el suelo cuando se patea."
   ]
  },
  {
   "cell_type": "code",
   "execution_count": 18,
   "id": "eabf0585-0361-4401-9b36-195ef1efd565",
   "metadata": {},
   "outputs": [
    {
     "name": "stdout",
     "output_type": "stream",
     "text": [
      "['pass', 'freekick']\n",
      "Moviepy - Running:\n",
      ">>> \"+ \" \".join(cmd)\n",
      "Moviepy - Command successful\n"
     ]
    },
    {
     "data": {
      "text/html": [
       "<video src=\"./videos/play/test_73.mp4\" controls  width=\"800\" >\n",
       "      Your browser does not support the <code>video</code> element.\n",
       "    </video>"
      ],
      "text/plain": [
       "<IPython.core.display.Video object>"
      ]
     },
     "execution_count": 18,
     "metadata": {},
     "output_type": "execute_result"
    }
   ],
   "source": [
    "create_video(df_play.iloc[27], 'play',before=2, after=2)"
   ]
  },
  {
   "cell_type": "markdown",
   "id": "891975f5-3070-433c-ad17-5e04ce080714",
   "metadata": {},
   "source": [
    "#### Cross and free kick"
   ]
  },
  {
   "cell_type": "code",
   "execution_count": 19,
   "id": "9311fecd-2da1-438a-b45b-77e2cabf40cd",
   "metadata": {},
   "outputs": [
    {
     "name": "stdout",
     "output_type": "stream",
     "text": [
      "['cross', 'freekick']\n",
      "Moviepy - Running:\n",
      ">>> \"+ \" \".join(cmd)\n",
      "Moviepy - Command successful\n"
     ]
    },
    {
     "data": {
      "text/html": [
       "<video src=\"./videos/play/test_3318.mp4\" controls  width=\"800\" >\n",
       "      Your browser does not support the <code>video</code> element.\n",
       "    </video>"
      ],
      "text/plain": [
       "<IPython.core.display.Video object>"
      ]
     },
     "execution_count": 19,
     "metadata": {},
     "output_type": "execute_result"
    }
   ],
   "source": [
    "create_video(df_play.iloc[1105], 'play',before=2, after=2)"
   ]
  },
  {
   "cell_type": "markdown",
   "id": "9ea9583b-fb94-4b4e-b598-73db59b0230d",
   "metadata": {},
   "source": [
    "### Pass and Corner"
   ]
  },
  {
   "cell_type": "markdown",
   "id": "4a929c73-8ef4-4f79-845d-5c44d1164288",
   "metadata": {},
   "source": [
    "Un saque de esquina se refiere a una situación en la que se ejecuta la jugada para reiniciar el juego después de que el balón salió de juego sobre la línea de gol tras el toque del jugador del equipo defensor. La pelota debe patearse desde la esquina más cercana del campo y debe estar estacionaria en el suelo cuando se patea."
   ]
  },
  {
   "cell_type": "code",
   "execution_count": 20,
   "id": "1b9b8891-06af-435a-90ed-e02c2320628d",
   "metadata": {},
   "outputs": [
    {
     "name": "stdout",
     "output_type": "stream",
     "text": [
      "['pass', 'corner']\n",
      "Moviepy - Running:\n",
      ">>> \"+ \" \".join(cmd)\n",
      "Moviepy - Command successful\n"
     ]
    },
    {
     "data": {
      "text/html": [
       "<video src=\"./videos/play/test_5997.mp4\" controls  width=\"800\" >\n",
       "      Your browser does not support the <code>video</code> element.\n",
       "    </video>"
      ],
      "text/plain": [
       "<IPython.core.display.Video object>"
      ]
     },
     "execution_count": 20,
     "metadata": {},
     "output_type": "execute_result"
    }
   ],
   "source": [
    "create_video(df_play.iloc[1955], 'play',before=2, after=2)"
   ]
  },
  {
   "cell_type": "markdown",
   "id": "2ca68208-885a-49a1-8142-c8cfcda516c6",
   "metadata": {},
   "source": [
    "#### Cross and Corner"
   ]
  },
  {
   "cell_type": "code",
   "execution_count": 21,
   "id": "76ff1e01-9a54-4ff6-968b-7039810b699c",
   "metadata": {},
   "outputs": [
    {
     "name": "stdout",
     "output_type": "stream",
     "text": [
      "['cross', 'corner']\n",
      "Moviepy - Running:\n",
      ">>> \"+ \" \".join(cmd)\n",
      "Moviepy - Command successful\n"
     ]
    },
    {
     "data": {
      "text/html": [
       "<video src=\"./videos/play/test_344.mp4\" controls  width=\"800\" >\n",
       "      Your browser does not support the <code>video</code> element.\n",
       "    </video>"
      ],
      "text/plain": [
       "<IPython.core.display.Video object>"
      ]
     },
     "execution_count": 21,
     "metadata": {},
     "output_type": "execute_result"
    }
   ],
   "source": [
    "create_video(df_play.iloc[108], 'play',before=2, after=2)"
   ]
  },
  {
   "cell_type": "markdown",
   "id": "0568a724-48b6-4297-a7b3-9b0d63df6077",
   "metadata": {},
   "source": [
    "### Challenge"
   ]
  },
  {
   "cell_type": "markdown",
   "id": "320a2e51-ff9f-46e5-80a0-9b825ba44238",
   "metadata": {},
   "source": [
    "Un desafío es una acción de un jugador durante la cual dos jugadores de equipos opuestos son físicamente capaces de obtener o recibir el control del balón e intentan hacerlo. Un Desafío requiere que uno de los dos jugadores toque la pelota o cometa una falta al jugador contrario."
   ]
  },
  {
   "cell_type": "code",
   "execution_count": 22,
   "id": "2ebaed1c-35f7-4454-b0f2-10ffd5893dc6",
   "metadata": {},
   "outputs": [],
   "source": [
    "df_challenge = df[df[\"event\"] == \"challenge\"].reset_index()"
   ]
  },
  {
   "cell_type": "code",
   "execution_count": 23,
   "id": "227007cc-f1a7-4154-936d-7cf05274ff02",
   "metadata": {},
   "outputs": [
    {
     "data": {
      "text/plain": [
       "<AxesSubplot:xlabel='count', ylabel='event_attributes'>"
      ]
     },
     "execution_count": 23,
     "metadata": {},
     "output_type": "execute_result"
    },
    {
     "data": {
      "image/png": "[encoded data removed]",
      "text/plain": [
       "<Figure size 1152x216 with 1 Axes>"
      ]
     },
     "metadata": {
      "needs_background": "light"
     },
     "output_type": "display_data"
    }
   ],
   "source": [
    "plt.figure(figsize=(16, 3))\n",
    "sns.countplot(data=df_challenge, y=\"event_attributes\")"
   ]
  },
  {
   "cell_type": "code",
   "execution_count": 24,
   "id": "2fc0175e-5086-476d-9362-9ed003682f1b",
   "metadata": {},
   "outputs": [
    {
     "data": {
      "text/plain": [
       "<AxesSubplot:xlabel='video_id', ylabel='count'>"
      ]
     },
     "execution_count": 24,
     "metadata": {},
     "output_type": "execute_result"
    },
    {
     "data": {
      "image/png": "[encoded data removed]",
      "text/plain": [
       "<Figure size 1152x360 with 1 Axes>"
      ]
     },
     "metadata": {
      "needs_background": "light"
     },
     "output_type": "display_data"
    }
   ],
   "source": [
    "plt.figure(figsize=(16, 5))\n",
    "sns.countplot(data=df_challenge, x=\"video_id\", hue=\"event_attributes\")"
   ]
  },
  {
   "cell_type": "code",
   "execution_count": 25,
   "id": "73080c3d-99f8-435a-a0f3-c5955bf053d8",
   "metadata": {},
   "outputs": [
    {
     "data": {
      "text/plain": [
       "['ball_action_forced']                239\n",
       "['opponent_dispossessed']             138\n",
       "['fouled']                            111\n",
       "['challenge_during_ball_transfer']     53\n",
       "['possession_retained']                44\n",
       "['opponent_rounded']                   39\n",
       "Name: event_attributes, dtype: int64"
      ]
     },
     "execution_count": 25,
     "metadata": {},
     "output_type": "execute_result"
    }
   ],
   "source": [
    "df_challenge[\"event_attributes\"].value_counts()"
   ]
  },
  {
   "cell_type": "code",
   "execution_count": 26,
   "id": "ebb56ad9-4f3f-4405-a761-43cfea3df3cd",
   "metadata": {},
   "outputs": [
    {
     "name": "stdout",
     "output_type": "stream",
     "text": [
      "2 index                                    59\n",
      "video_id                         1606b0e6_0\n",
      "time                                 300.99\n",
      "event                             challenge\n",
      "event_attributes    ['possession_retained']\n",
      "Name: 2, dtype: object\n"
     ]
    }
   ],
   "source": [
    "for i, x in df_challenge.iterrows():\n",
    "    if x[\"event_attributes\"] == \"['possession_retained']\":\n",
    "        print(i, x)\n",
    "        break"
   ]
  },
  {
   "cell_type": "markdown",
   "id": "802ab07e-5bee-42bb-8f21-56ec8d9903f2",
   "metadata": {},
   "source": [
    "#### Opponent Rounded"
   ]
  },
  {
   "cell_type": "markdown",
   "id": "26f704df-4dab-4bf0-8aa2-fa75a5210f7d",
   "metadata": {},
   "source": [
    "un jugador con control del balón permanece con el control del balón después del desafío, habiendo dejado atrás al jugador contrario. Las situaciones en las que el oponente no puede obtener la posesión (p. ej., cuando el balón se “sacude” por encima del oponente) también se registrarán como desafíos."
   ]
  },
  {
   "cell_type": "code",
   "execution_count": 27,
   "id": "47e5b67d-bc68-4801-96bd-450086260d75",
   "metadata": {},
   "outputs": [
    {
     "name": "stdout",
     "output_type": "stream",
     "text": [
      "['opponent_rounded']\n",
      "Moviepy - Running:\n",
      ">>> \"+ \" \".join(cmd)\n",
      "Moviepy - Command successful\n"
     ]
    },
    {
     "data": {
      "text/html": [
       "<video src=\"./videos/challenge/test_182.mp4\" controls  width=\"800\" >\n",
       "      Your browser does not support the <code>video</code> element.\n",
       "    </video>"
      ],
      "text/plain": [
       "<IPython.core.display.Video object>"
      ]
     },
     "execution_count": 27,
     "metadata": {},
     "output_type": "execute_result"
    }
   ],
   "source": [
    "create_video(df_challenge.iloc[11], 'challenge',before=3, after=3)"
   ]
  },
  {
   "cell_type": "markdown",
   "id": "202c9c01-b0e6-43e4-bd7d-d5af4ce42e09",
   "metadata": {},
   "source": [
    "#### Ball Action Forced"
   ]
  },
  {
   "cell_type": "markdown",
   "id": "ce8ec57b-8375-4d90-9bcb-bd21545e5270",
   "metadata": {},
   "source": [
    "se aplica cuando ninguno de los jugadores involucrados en el desafío tiene el control del balón al comienzo del desafío (por ejemplo, desafíos aéreos, desafíos para el primer toque de balón) y un jugador determina la dirección del balón en el final del reto."
   ]
  },
  {
   "cell_type": "code",
   "execution_count": 28,
   "id": "7c494dbe-e9af-43ee-9dc1-9a6a1624e781",
   "metadata": {},
   "outputs": [
    {
     "name": "stdout",
     "output_type": "stream",
     "text": [
      "['ball_action_forced']\n",
      "Moviepy - Running:\n",
      ">>> \"+ \" \".join(cmd)\n",
      "Moviepy - Command successful\n"
     ]
    },
    {
     "data": {
      "text/html": [
       "<video src=\"./videos/challenge/test_1.mp4\" controls  width=\"800\" >\n",
       "      Your browser does not support the <code>video</code> element.\n",
       "    </video>"
      ],
      "text/plain": [
       "<IPython.core.display.Video object>"
      ]
     },
     "execution_count": 28,
     "metadata": {},
     "output_type": "execute_result"
    }
   ],
   "source": [
    "create_video(df_challenge.iloc[0], 'challenge',before=3, after=3)"
   ]
  },
  {
   "cell_type": "markdown",
   "id": "6ed47255-5392-47d0-b218-61f97825f554",
   "metadata": {},
   "source": [
    "#### Fouled"
   ]
  },
  {
   "cell_type": "markdown",
   "id": "96751898-5c0b-4d45-a40f-32f0e3e7e756",
   "metadata": {},
   "source": [
    "Accion que termina con falta"
   ]
  },
  {
   "cell_type": "code",
   "execution_count": 29,
   "id": "61e0904b-89d7-4121-8d15-3c209c3eb778",
   "metadata": {},
   "outputs": [
    {
     "name": "stdout",
     "output_type": "stream",
     "text": [
      "['fouled']\n",
      "Moviepy - Running:\n",
      ">>> \"+ \" \".join(cmd)\n",
      "Moviepy - Command successful\n"
     ]
    },
    {
     "data": {
      "text/html": [
       "<video src=\"./videos/challenge/test_130.mp4\" controls  width=\"800\" >\n",
       "      Your browser does not support the <code>video</code> element.\n",
       "    </video>"
      ],
      "text/plain": [
       "<IPython.core.display.Video object>"
      ]
     },
     "execution_count": 29,
     "metadata": {},
     "output_type": "execute_result"
    }
   ],
   "source": [
    "create_video(df_challenge.iloc[8], 'challenge',before=3, after=3)"
   ]
  },
  {
   "cell_type": "markdown",
   "id": "0d264a51-8dbb-423e-846e-34d80ba756f1",
   "metadata": {},
   "source": [
    "#### Opponent Dispossessed"
   ]
  },
  {
   "cell_type": "markdown",
   "id": "0c94c58c-f146-4400-a7c3-759a9b2ec11e",
   "metadata": {},
   "source": [
    "Un jugador que no tiene el control del balón desposee al jugador contrario que tiene el control del balón."
   ]
  },
  {
   "cell_type": "code",
   "execution_count": 30,
   "id": "dc9f2079-a083-4893-84ef-40c857b9c792",
   "metadata": {},
   "outputs": [
    {
     "name": "stdout",
     "output_type": "stream",
     "text": [
      "['opponent_dispossessed']\n",
      "Moviepy - Running:\n",
      ">>> \"+ \" \".join(cmd)\n",
      "Moviepy - Command successful\n"
     ]
    },
    {
     "data": {
      "text/html": [
       "<video src=\"./videos/challenge/test_4.mp4\" controls  width=\"800\" >\n",
       "      Your browser does not support the <code>video</code> element.\n",
       "    </video>"
      ],
      "text/plain": [
       "<IPython.core.display.Video object>"
      ]
     },
     "execution_count": 30,
     "metadata": {},
     "output_type": "execute_result"
    }
   ],
   "source": [
    "create_video(df_challenge.iloc[1], 'challenge',before=3, after=3)"
   ]
  },
  {
   "cell_type": "markdown",
   "id": "c91650b8-e2b1-4b56-9e83-3f2dbca02bee",
   "metadata": {},
   "source": [
    "### Challenge During Ball Transfer"
   ]
  },
  {
   "cell_type": "markdown",
   "id": "ddf64ffe-e075-4ec2-8ad2-525c2ee63db0",
   "metadata": {},
   "source": [
    "Se aplica cuando los tiros o las pelotas jugadas son forzadas o bloqueadas durante los desafíos. Solo se registra un desafío si la pelota jugada o el tiro viajan a través del área que el jugador defensor está tratando de cubrir desde una perspectiva táctica. Todos los demás casos no se registran como impugnaciones."
   ]
  },
  {
   "cell_type": "code",
   "execution_count": 31,
   "id": "3e131931-7f11-4599-a65b-6a4588d28ce8",
   "metadata": {},
   "outputs": [
    {
     "name": "stdout",
     "output_type": "stream",
     "text": [
      "['challenge_during_ball_transfer']\n",
      "Moviepy - Running:\n",
      ">>> \"+ \" \".join(cmd)\n",
      "Moviepy - Command successful\n"
     ]
    },
    {
     "data": {
      "text/html": [
       "<video src=\"./videos/challenge/test_738.mp4\" controls  width=\"800\" >\n",
       "      Your browser does not support the <code>video</code> element.\n",
       "    </video>"
      ],
      "text/plain": [
       "<IPython.core.display.Video object>"
      ]
     },
     "execution_count": 31,
     "metadata": {},
     "output_type": "execute_result"
    }
   ],
   "source": [
    "create_video(df_challenge.iloc[45], 'challenge',before=3, after=3)"
   ]
  },
  {
   "cell_type": "markdown",
   "id": "5aa2e9eb-36a0-42bd-bf45-3ab38d429167",
   "metadata": {},
   "source": [
    "### Possession Retained"
   ]
  },
  {
   "cell_type": "markdown",
   "id": "2ff9f915-4e9c-4c34-afb6-847502887996",
   "metadata": {},
   "source": [
    "Se aplica cuando uno de los jugadores que participan en el desafío tiene cierto control del balón al inicio del desafío y logra retenerlo, a pesar de los esfuerzos por despojarlo del oponente involucrado en el desafío."
   ]
  },
  {
   "cell_type": "code",
   "execution_count": 32,
   "id": "cd407e5d-7af9-4aed-a2b2-117834f95c5d",
   "metadata": {},
   "outputs": [
    {
     "name": "stdout",
     "output_type": "stream",
     "text": [
      "['possession_retained']\n",
      "Moviepy - Running:\n",
      ">>> \"+ \" \".join(cmd)\n",
      "Moviepy - Command successful\n"
     ]
    },
    {
     "data": {
      "text/html": [
       "<video src=\"./videos/challenge/test_59.mp4\" controls  width=\"800\" >\n",
       "      Your browser does not support the <code>video</code> element.\n",
       "    </video>"
      ],
      "text/plain": [
       "<IPython.core.display.Video object>"
      ]
     },
     "execution_count": 32,
     "metadata": {},
     "output_type": "execute_result"
    }
   ],
   "source": [
    "create_video(df_challenge.iloc[2], 'challenge',before=3, after=3)"
   ]
  },
  {
   "cell_type": "code",
   "execution_count": 34,
   "id": "e9312bb1-b57e-4ee2-96c4-33bd0b93565b",
   "metadata": {},
   "outputs": [
    {
     "name": "stdout",
     "output_type": "stream",
     "text": [
      "b'\\x00\\x00\\x00 ftypis'\n",
      "b'\\x00\\x00\\x00 ftypis'\n"
     ]
    }
   ],
   "source": [
    "with open(\"videos/play/test_10.mp4\", \"rb\") as file:\n",
    "    byte = file.read() # read a byte (a single character in text)\n",
    "    print(byte[:10])\n",
    "    print(str(byte[:10]))"
   ]
  },
  {
   "cell_type": "code",
   "execution_count": 35,
   "id": "6d80d28a-631a-4d61-9fff-516c06f9bff0",
   "metadata": {},
   "outputs": [],
   "source": [
    "def convert_to_binary(video):\n",
    "    f = f\"./videos/train/{video}.mp4\"\n",
    "    with open(f, \"rb\") as file:\n",
    "        byte = file.read() # read a byte (a single character in text)\n",
    "        #print(byte[:10])\n",
    "        print(str(byte[:10]))\n",
    "        return str(byte)"
   ]
  },
  {
   "cell_type": "code",
   "execution_count": null,
   "id": "e2f17d01-f77a-4d9b-9630-69e6663cd0e1",
   "metadata": {},
   "outputs": [],
   "source": [
    "df.head()"
   ]
  },
  {
   "cell_type": "code",
   "execution_count": 37,
   "id": "90e8bc3d-8b11-4eb2-88cc-a9272c01d2eb",
   "metadata": {},
   "outputs": [
    {
     "data": {
      "text/html": [
       "<div>\n",
       "<style scoped>\n",
       "    .dataframe tbody tr th:only-of-type {\n",
       "        vertical-align: middle;\n",
       "    }\n",
       "\n",
       "    .dataframe tbody tr th {\n",
       "        vertical-align: top;\n",
       "    }\n",
       "\n",
       "    .dataframe thead th {\n",
       "        text-align: right;\n",
       "    }\n",
       "</style>\n",
       "<table border=\"1\" class=\"dataframe\">\n",
       "  <thead>\n",
       "    <tr style=\"text-align: right;\">\n",
       "      <th></th>\n",
       "      <th>index</th>\n",
       "      <th>video_id</th>\n",
       "      <th>time</th>\n",
       "      <th>event</th>\n",
       "      <th>event_attributes</th>\n",
       "    </tr>\n",
       "  </thead>\n",
       "  <tbody>\n",
       "    <tr>\n",
       "      <th>0</th>\n",
       "      <td>10</td>\n",
       "      <td>1606b0e6_0</td>\n",
       "      <td>224.43</td>\n",
       "      <td>play</td>\n",
       "      <td>['pass', 'openplay']</td>\n",
       "    </tr>\n",
       "    <tr>\n",
       "      <th>1</th>\n",
       "      <td>13</td>\n",
       "      <td>1606b0e6_0</td>\n",
       "      <td>229.39</td>\n",
       "      <td>play</td>\n",
       "      <td>['pass', 'openplay']</td>\n",
       "    </tr>\n",
       "    <tr>\n",
       "      <th>2</th>\n",
       "      <td>16</td>\n",
       "      <td>1606b0e6_0</td>\n",
       "      <td>236.71</td>\n",
       "      <td>play</td>\n",
       "      <td>['pass', 'openplay']</td>\n",
       "    </tr>\n",
       "    <tr>\n",
       "      <th>3</th>\n",
       "      <td>17</td>\n",
       "      <td>1606b0e6_0</td>\n",
       "      <td>239.35</td>\n",
       "      <td>play</td>\n",
       "      <td>['pass', 'openplay']</td>\n",
       "    </tr>\n",
       "    <tr>\n",
       "      <th>4</th>\n",
       "      <td>20</td>\n",
       "      <td>1606b0e6_0</td>\n",
       "      <td>242.39</td>\n",
       "      <td>play</td>\n",
       "      <td>['pass', 'openplay']</td>\n",
       "    </tr>\n",
       "    <tr>\n",
       "      <th>5</th>\n",
       "      <td>21</td>\n",
       "      <td>1606b0e6_0</td>\n",
       "      <td>244.59</td>\n",
       "      <td>play</td>\n",
       "      <td>['pass', 'openplay']</td>\n",
       "    </tr>\n",
       "    <tr>\n",
       "      <th>6</th>\n",
       "      <td>24</td>\n",
       "      <td>1606b0e6_0</td>\n",
       "      <td>248.11</td>\n",
       "      <td>play</td>\n",
       "      <td>['pass', 'openplay']</td>\n",
       "    </tr>\n",
       "    <tr>\n",
       "      <th>7</th>\n",
       "      <td>27</td>\n",
       "      <td>1606b0e6_0</td>\n",
       "      <td>250.75</td>\n",
       "      <td>play</td>\n",
       "      <td>['pass', 'openplay']</td>\n",
       "    </tr>\n",
       "    <tr>\n",
       "      <th>8</th>\n",
       "      <td>28</td>\n",
       "      <td>1606b0e6_0</td>\n",
       "      <td>253.47</td>\n",
       "      <td>play</td>\n",
       "      <td>['pass', 'openplay']</td>\n",
       "    </tr>\n",
       "    <tr>\n",
       "      <th>9</th>\n",
       "      <td>31</td>\n",
       "      <td>1606b0e6_0</td>\n",
       "      <td>256.83</td>\n",
       "      <td>play</td>\n",
       "      <td>['pass', 'openplay']</td>\n",
       "    </tr>\n",
       "    <tr>\n",
       "      <th>10</th>\n",
       "      <td>34</td>\n",
       "      <td>1606b0e6_0</td>\n",
       "      <td>258.83</td>\n",
       "      <td>play</td>\n",
       "      <td>['pass', 'openplay']</td>\n",
       "    </tr>\n",
       "    <tr>\n",
       "      <th>11</th>\n",
       "      <td>35</td>\n",
       "      <td>1606b0e6_0</td>\n",
       "      <td>261.31</td>\n",
       "      <td>play</td>\n",
       "      <td>['pass', 'openplay']</td>\n",
       "    </tr>\n",
       "    <tr>\n",
       "      <th>12</th>\n",
       "      <td>36</td>\n",
       "      <td>1606b0e6_0</td>\n",
       "      <td>263.15</td>\n",
       "      <td>play</td>\n",
       "      <td>['pass', 'openplay']</td>\n",
       "    </tr>\n",
       "    <tr>\n",
       "      <th>13</th>\n",
       "      <td>39</td>\n",
       "      <td>1606b0e6_0</td>\n",
       "      <td>266.15</td>\n",
       "      <td>play</td>\n",
       "      <td>['pass', 'openplay']</td>\n",
       "    </tr>\n",
       "    <tr>\n",
       "      <th>14</th>\n",
       "      <td>42</td>\n",
       "      <td>1606b0e6_0</td>\n",
       "      <td>269.31</td>\n",
       "      <td>play</td>\n",
       "      <td>['pass', 'openplay']</td>\n",
       "    </tr>\n",
       "    <tr>\n",
       "      <th>15</th>\n",
       "      <td>43</td>\n",
       "      <td>1606b0e6_0</td>\n",
       "      <td>272.11</td>\n",
       "      <td>play</td>\n",
       "      <td>['cross', 'openplay']</td>\n",
       "    </tr>\n",
       "    <tr>\n",
       "      <th>16</th>\n",
       "      <td>46</td>\n",
       "      <td>1606b0e6_0</td>\n",
       "      <td>276.67</td>\n",
       "      <td>play</td>\n",
       "      <td>['pass', 'openplay']</td>\n",
       "    </tr>\n",
       "    <tr>\n",
       "      <th>17</th>\n",
       "      <td>49</td>\n",
       "      <td>1606b0e6_0</td>\n",
       "      <td>282.19</td>\n",
       "      <td>play</td>\n",
       "      <td>['pass', 'openplay']</td>\n",
       "    </tr>\n",
       "    <tr>\n",
       "      <th>18</th>\n",
       "      <td>50</td>\n",
       "      <td>1606b0e6_0</td>\n",
       "      <td>284.15</td>\n",
       "      <td>play</td>\n",
       "      <td>['pass', 'openplay']</td>\n",
       "    </tr>\n",
       "    <tr>\n",
       "      <th>19</th>\n",
       "      <td>53</td>\n",
       "      <td>1606b0e6_0</td>\n",
       "      <td>290.99</td>\n",
       "      <td>play</td>\n",
       "      <td>['pass', 'openplay']</td>\n",
       "    </tr>\n",
       "    <tr>\n",
       "      <th>20</th>\n",
       "      <td>54</td>\n",
       "      <td>1606b0e6_0</td>\n",
       "      <td>294.31</td>\n",
       "      <td>play</td>\n",
       "      <td>['pass', 'openplay']</td>\n",
       "    </tr>\n",
       "    <tr>\n",
       "      <th>21</th>\n",
       "      <td>57</td>\n",
       "      <td>1606b0e6_0</td>\n",
       "      <td>296.31</td>\n",
       "      <td>play</td>\n",
       "      <td>['pass', 'openplay']</td>\n",
       "    </tr>\n",
       "    <tr>\n",
       "      <th>22</th>\n",
       "      <td>58</td>\n",
       "      <td>1606b0e6_0</td>\n",
       "      <td>298.79</td>\n",
       "      <td>play</td>\n",
       "      <td>['pass', 'openplay']</td>\n",
       "    </tr>\n",
       "    <tr>\n",
       "      <th>23</th>\n",
       "      <td>65</td>\n",
       "      <td>1606b0e6_0</td>\n",
       "      <td>311.23</td>\n",
       "      <td>play</td>\n",
       "      <td>['pass', 'openplay']</td>\n",
       "    </tr>\n",
       "    <tr>\n",
       "      <th>24</th>\n",
       "      <td>66</td>\n",
       "      <td>1606b0e6_0</td>\n",
       "      <td>313.23</td>\n",
       "      <td>play</td>\n",
       "      <td>['cross', 'openplay']</td>\n",
       "    </tr>\n",
       "    <tr>\n",
       "      <th>25</th>\n",
       "      <td>69</td>\n",
       "      <td>1606b0e6_0</td>\n",
       "      <td>325.67</td>\n",
       "      <td>play</td>\n",
       "      <td>['pass', 'openplay']</td>\n",
       "    </tr>\n",
       "    <tr>\n",
       "      <th>26</th>\n",
       "      <td>70</td>\n",
       "      <td>1606b0e6_0</td>\n",
       "      <td>328.83</td>\n",
       "      <td>play</td>\n",
       "      <td>['pass', 'openplay']</td>\n",
       "    </tr>\n",
       "    <tr>\n",
       "      <th>27</th>\n",
       "      <td>73</td>\n",
       "      <td>1606b0e6_0</td>\n",
       "      <td>356.23</td>\n",
       "      <td>play</td>\n",
       "      <td>['pass', 'freekick']</td>\n",
       "    </tr>\n",
       "    <tr>\n",
       "      <th>28</th>\n",
       "      <td>76</td>\n",
       "      <td>1606b0e6_0</td>\n",
       "      <td>361.39</td>\n",
       "      <td>play</td>\n",
       "      <td>['cross', 'openplay']</td>\n",
       "    </tr>\n",
       "    <tr>\n",
       "      <th>29</th>\n",
       "      <td>82</td>\n",
       "      <td>1606b0e6_0</td>\n",
       "      <td>398.83</td>\n",
       "      <td>play</td>\n",
       "      <td>['pass', 'openplay']</td>\n",
       "    </tr>\n",
       "    <tr>\n",
       "      <th>30</th>\n",
       "      <td>85</td>\n",
       "      <td>1606b0e6_0</td>\n",
       "      <td>402.03</td>\n",
       "      <td>play</td>\n",
       "      <td>['pass', 'openplay']</td>\n",
       "    </tr>\n",
       "    <tr>\n",
       "      <th>31</th>\n",
       "      <td>88</td>\n",
       "      <td>1606b0e6_0</td>\n",
       "      <td>407.19</td>\n",
       "      <td>play</td>\n",
       "      <td>['pass', 'openplay']</td>\n",
       "    </tr>\n",
       "    <tr>\n",
       "      <th>32</th>\n",
       "      <td>91</td>\n",
       "      <td>1606b0e6_0</td>\n",
       "      <td>410.11</td>\n",
       "      <td>play</td>\n",
       "      <td>['pass', 'openplay']</td>\n",
       "    </tr>\n",
       "    <tr>\n",
       "      <th>33</th>\n",
       "      <td>94</td>\n",
       "      <td>1606b0e6_0</td>\n",
       "      <td>414.11</td>\n",
       "      <td>play</td>\n",
       "      <td>['pass', 'openplay']</td>\n",
       "    </tr>\n",
       "    <tr>\n",
       "      <th>34</th>\n",
       "      <td>102</td>\n",
       "      <td>1606b0e6_0</td>\n",
       "      <td>430.71</td>\n",
       "      <td>play</td>\n",
       "      <td>['pass', 'openplay']</td>\n",
       "    </tr>\n",
       "    <tr>\n",
       "      <th>35</th>\n",
       "      <td>105</td>\n",
       "      <td>1606b0e6_0</td>\n",
       "      <td>440.47</td>\n",
       "      <td>play</td>\n",
       "      <td>['pass', 'openplay']</td>\n",
       "    </tr>\n",
       "    <tr>\n",
       "      <th>36</th>\n",
       "      <td>111</td>\n",
       "      <td>1606b0e6_0</td>\n",
       "      <td>446.43</td>\n",
       "      <td>play</td>\n",
       "      <td>['pass', 'openplay']</td>\n",
       "    </tr>\n",
       "    <tr>\n",
       "      <th>37</th>\n",
       "      <td>114</td>\n",
       "      <td>1606b0e6_0</td>\n",
       "      <td>452.51</td>\n",
       "      <td>play</td>\n",
       "      <td>['pass', 'openplay']</td>\n",
       "    </tr>\n",
       "    <tr>\n",
       "      <th>38</th>\n",
       "      <td>115</td>\n",
       "      <td>1606b0e6_0</td>\n",
       "      <td>454.67</td>\n",
       "      <td>play</td>\n",
       "      <td>['pass', 'openplay']</td>\n",
       "    </tr>\n",
       "    <tr>\n",
       "      <th>39</th>\n",
       "      <td>116</td>\n",
       "      <td>1606b0e6_0</td>\n",
       "      <td>456.27</td>\n",
       "      <td>play</td>\n",
       "      <td>['pass', 'openplay']</td>\n",
       "    </tr>\n",
       "    <tr>\n",
       "      <th>40</th>\n",
       "      <td>122</td>\n",
       "      <td>1606b0e6_0</td>\n",
       "      <td>478.75</td>\n",
       "      <td>play</td>\n",
       "      <td>['pass', 'openplay']</td>\n",
       "    </tr>\n",
       "    <tr>\n",
       "      <th>41</th>\n",
       "      <td>123</td>\n",
       "      <td>1606b0e6_0</td>\n",
       "      <td>480.83</td>\n",
       "      <td>play</td>\n",
       "      <td>['pass', 'openplay']</td>\n",
       "    </tr>\n",
       "    <tr>\n",
       "      <th>42</th>\n",
       "      <td>124</td>\n",
       "      <td>1606b0e6_0</td>\n",
       "      <td>482.55</td>\n",
       "      <td>play</td>\n",
       "      <td>['pass', 'openplay']</td>\n",
       "    </tr>\n",
       "    <tr>\n",
       "      <th>43</th>\n",
       "      <td>127</td>\n",
       "      <td>1606b0e6_0</td>\n",
       "      <td>493.47</td>\n",
       "      <td>play</td>\n",
       "      <td>['pass', 'openplay']</td>\n",
       "    </tr>\n",
       "    <tr>\n",
       "      <th>44</th>\n",
       "      <td>133</td>\n",
       "      <td>1606b0e6_0</td>\n",
       "      <td>522.99</td>\n",
       "      <td>play</td>\n",
       "      <td>['pass', 'openplay']</td>\n",
       "    </tr>\n",
       "    <tr>\n",
       "      <th>45</th>\n",
       "      <td>134</td>\n",
       "      <td>1606b0e6_0</td>\n",
       "      <td>524.91</td>\n",
       "      <td>play</td>\n",
       "      <td>['pass', 'openplay']</td>\n",
       "    </tr>\n",
       "    <tr>\n",
       "      <th>46</th>\n",
       "      <td>137</td>\n",
       "      <td>1606b0e6_0</td>\n",
       "      <td>530.35</td>\n",
       "      <td>play</td>\n",
       "      <td>['pass', 'openplay']</td>\n",
       "    </tr>\n",
       "    <tr>\n",
       "      <th>47</th>\n",
       "      <td>140</td>\n",
       "      <td>1606b0e6_0</td>\n",
       "      <td>541.31</td>\n",
       "      <td>play</td>\n",
       "      <td>['pass', 'openplay']</td>\n",
       "    </tr>\n",
       "    <tr>\n",
       "      <th>48</th>\n",
       "      <td>143</td>\n",
       "      <td>1606b0e6_0</td>\n",
       "      <td>543.87</td>\n",
       "      <td>play</td>\n",
       "      <td>['pass', 'openplay']</td>\n",
       "    </tr>\n",
       "    <tr>\n",
       "      <th>49</th>\n",
       "      <td>146</td>\n",
       "      <td>1606b0e6_0</td>\n",
       "      <td>545.91</td>\n",
       "      <td>play</td>\n",
       "      <td>['pass', 'openplay']</td>\n",
       "    </tr>\n",
       "    <tr>\n",
       "      <th>50</th>\n",
       "      <td>149</td>\n",
       "      <td>1606b0e6_0</td>\n",
       "      <td>552.27</td>\n",
       "      <td>play</td>\n",
       "      <td>['pass', 'openplay']</td>\n",
       "    </tr>\n",
       "    <tr>\n",
       "      <th>51</th>\n",
       "      <td>152</td>\n",
       "      <td>1606b0e6_0</td>\n",
       "      <td>554.47</td>\n",
       "      <td>play</td>\n",
       "      <td>['pass', 'openplay']</td>\n",
       "    </tr>\n",
       "    <tr>\n",
       "      <th>52</th>\n",
       "      <td>153</td>\n",
       "      <td>1606b0e6_0</td>\n",
       "      <td>556.71</td>\n",
       "      <td>play</td>\n",
       "      <td>['cross', 'openplay']</td>\n",
       "    </tr>\n",
       "    <tr>\n",
       "      <th>53</th>\n",
       "      <td>156</td>\n",
       "      <td>1606b0e6_0</td>\n",
       "      <td>587.03</td>\n",
       "      <td>play</td>\n",
       "      <td>['pass', 'openplay']</td>\n",
       "    </tr>\n",
       "    <tr>\n",
       "      <th>54</th>\n",
       "      <td>166</td>\n",
       "      <td>1606b0e6_0</td>\n",
       "      <td>625.91</td>\n",
       "      <td>play</td>\n",
       "      <td>['pass', 'openplay']</td>\n",
       "    </tr>\n",
       "    <tr>\n",
       "      <th>55</th>\n",
       "      <td>167</td>\n",
       "      <td>1606b0e6_0</td>\n",
       "      <td>628.15</td>\n",
       "      <td>play</td>\n",
       "      <td>['pass', 'openplay']</td>\n",
       "    </tr>\n",
       "    <tr>\n",
       "      <th>56</th>\n",
       "      <td>170</td>\n",
       "      <td>1606b0e6_0</td>\n",
       "      <td>630.27</td>\n",
       "      <td>play</td>\n",
       "      <td>['pass', 'openplay']</td>\n",
       "    </tr>\n",
       "    <tr>\n",
       "      <th>57</th>\n",
       "      <td>173</td>\n",
       "      <td>1606b0e6_0</td>\n",
       "      <td>637.83</td>\n",
       "      <td>play</td>\n",
       "      <td>['pass', 'openplay']</td>\n",
       "    </tr>\n",
       "    <tr>\n",
       "      <th>58</th>\n",
       "      <td>176</td>\n",
       "      <td>1606b0e6_0</td>\n",
       "      <td>665.51</td>\n",
       "      <td>play</td>\n",
       "      <td>['pass', 'openplay']</td>\n",
       "    </tr>\n",
       "    <tr>\n",
       "      <th>59</th>\n",
       "      <td>179</td>\n",
       "      <td>1606b0e6_0</td>\n",
       "      <td>670.91</td>\n",
       "      <td>play</td>\n",
       "      <td>['cross', 'openplay']</td>\n",
       "    </tr>\n",
       "  </tbody>\n",
       "</table>\n",
       "</div>"
      ],
      "text/plain": [
       "    index    video_id    time event       event_attributes\n",
       "0      10  1606b0e6_0  224.43  play   ['pass', 'openplay']\n",
       "1      13  1606b0e6_0  229.39  play   ['pass', 'openplay']\n",
       "2      16  1606b0e6_0  236.71  play   ['pass', 'openplay']\n",
       "3      17  1606b0e6_0  239.35  play   ['pass', 'openplay']\n",
       "4      20  1606b0e6_0  242.39  play   ['pass', 'openplay']\n",
       "5      21  1606b0e6_0  244.59  play   ['pass', 'openplay']\n",
       "6      24  1606b0e6_0  248.11  play   ['pass', 'openplay']\n",
       "7      27  1606b0e6_0  250.75  play   ['pass', 'openplay']\n",
       "8      28  1606b0e6_0  253.47  play   ['pass', 'openplay']\n",
       "9      31  1606b0e6_0  256.83  play   ['pass', 'openplay']\n",
       "10     34  1606b0e6_0  258.83  play   ['pass', 'openplay']\n",
       "11     35  1606b0e6_0  261.31  play   ['pass', 'openplay']\n",
       "12     36  1606b0e6_0  263.15  play   ['pass', 'openplay']\n",
       "13     39  1606b0e6_0  266.15  play   ['pass', 'openplay']\n",
       "14     42  1606b0e6_0  269.31  play   ['pass', 'openplay']\n",
       "15     43  1606b0e6_0  272.11  play  ['cross', 'openplay']\n",
       "16     46  1606b0e6_0  276.67  play   ['pass', 'openplay']\n",
       "17     49  1606b0e6_0  282.19  play   ['pass', 'openplay']\n",
       "18     50  1606b0e6_0  284.15  play   ['pass', 'openplay']\n",
       "19     53  1606b0e6_0  290.99  play   ['pass', 'openplay']\n",
       "20     54  1606b0e6_0  294.31  play   ['pass', 'openplay']\n",
       "21     57  1606b0e6_0  296.31  play   ['pass', 'openplay']\n",
       "22     58  1606b0e6_0  298.79  play   ['pass', 'openplay']\n",
       "23     65  1606b0e6_0  311.23  play   ['pass', 'openplay']\n",
       "24     66  1606b0e6_0  313.23  play  ['cross', 'openplay']\n",
       "25     69  1606b0e6_0  325.67  play   ['pass', 'openplay']\n",
       "26     70  1606b0e6_0  328.83  play   ['pass', 'openplay']\n",
       "27     73  1606b0e6_0  356.23  play   ['pass', 'freekick']\n",
       "28     76  1606b0e6_0  361.39  play  ['cross', 'openplay']\n",
       "29     82  1606b0e6_0  398.83  play   ['pass', 'openplay']\n",
       "30     85  1606b0e6_0  402.03  play   ['pass', 'openplay']\n",
       "31     88  1606b0e6_0  407.19  play   ['pass', 'openplay']\n",
       "32     91  1606b0e6_0  410.11  play   ['pass', 'openplay']\n",
       "33     94  1606b0e6_0  414.11  play   ['pass', 'openplay']\n",
       "34    102  1606b0e6_0  430.71  play   ['pass', 'openplay']\n",
       "35    105  1606b0e6_0  440.47  play   ['pass', 'openplay']\n",
       "36    111  1606b0e6_0  446.43  play   ['pass', 'openplay']\n",
       "37    114  1606b0e6_0  452.51  play   ['pass', 'openplay']\n",
       "38    115  1606b0e6_0  454.67  play   ['pass', 'openplay']\n",
       "39    116  1606b0e6_0  456.27  play   ['pass', 'openplay']\n",
       "40    122  1606b0e6_0  478.75  play   ['pass', 'openplay']\n",
       "41    123  1606b0e6_0  480.83  play   ['pass', 'openplay']\n",
       "42    124  1606b0e6_0  482.55  play   ['pass', 'openplay']\n",
       "43    127  1606b0e6_0  493.47  play   ['pass', 'openplay']\n",
       "44    133  1606b0e6_0  522.99  play   ['pass', 'openplay']\n",
       "45    134  1606b0e6_0  524.91  play   ['pass', 'openplay']\n",
       "46    137  1606b0e6_0  530.35  play   ['pass', 'openplay']\n",
       "47    140  1606b0e6_0  541.31  play   ['pass', 'openplay']\n",
       "48    143  1606b0e6_0  543.87  play   ['pass', 'openplay']\n",
       "49    146  1606b0e6_0  545.91  play   ['pass', 'openplay']\n",
       "50    149  1606b0e6_0  552.27  play   ['pass', 'openplay']\n",
       "51    152  1606b0e6_0  554.47  play   ['pass', 'openplay']\n",
       "52    153  1606b0e6_0  556.71  play  ['cross', 'openplay']\n",
       "53    156  1606b0e6_0  587.03  play   ['pass', 'openplay']\n",
       "54    166  1606b0e6_0  625.91  play   ['pass', 'openplay']\n",
       "55    167  1606b0e6_0  628.15  play   ['pass', 'openplay']\n",
       "56    170  1606b0e6_0  630.27  play   ['pass', 'openplay']\n",
       "57    173  1606b0e6_0  637.83  play   ['pass', 'openplay']\n",
       "58    176  1606b0e6_0  665.51  play   ['pass', 'openplay']\n",
       "59    179  1606b0e6_0  670.91  play  ['cross', 'openplay']"
      ]
     },
     "execution_count": 37,
     "metadata": {},
     "output_type": "execute_result"
    }
   ],
   "source": [
    "df_play.head(60)"
   ]
  },
  {
   "cell_type": "code",
   "execution_count": 5,
   "id": "e74db197-cbb0-4e89-a97c-2004087864a0",
   "metadata": {},
   "outputs": [],
   "source": [
    "import cv2\n",
    "import os\n",
    "import numpy as np"
   ]
  },
  {
   "cell_type": "code",
   "execution_count": 6,
   "id": "60d19d77-a44a-43a8-8d93-1833d5c8ff24",
   "metadata": {},
   "outputs": [],
   "source": [
    "vidcap = cv2.VideoCapture('./videos/play/test_10.mp4')\n",
    "success,image = vidcap.read()\n",
    "count = 0\n",
    "success = True\n",
    "idx = 0"
   ]
  },
  {
   "cell_type": "code",
   "execution_count": 7,
   "id": "5f82fe44-21a3-443e-83d2-83c78642b688",
   "metadata": {},
   "outputs": [
    {
     "data": {
      "text/plain": [
       "< cv2.VideoCapture 00000274531B06B0>"
      ]
     },
     "execution_count": 7,
     "metadata": {},
     "output_type": "execute_result"
    }
   ],
   "source": [
    "vidcap.ce"
   ]
  },
  {
   "cell_type": "code",
   "execution_count": 13,
   "id": "97d40990-87ec-4342-bca6-536ae6cc93e3",
   "metadata": {},
   "outputs": [
    {
     "name": "stdout",
     "output_type": "stream",
     "text": [
      "Read a new frame:  True\n",
      "Read a new frame:  True\n",
      "Read a new frame:  True\n",
      "Read a new frame:  True\n",
      "Read a new frame:  True\n",
      "Read a new frame:  True\n",
      "Read a new frame:  True\n",
      "Read a new frame:  True\n",
      "Read a new frame:  True\n",
      "Read a new frame:  True\n",
      "Read a new frame:  True\n",
      "Read a new frame:  True\n",
      "Read a new frame:  True\n",
      "Read a new frame:  True\n",
      "Read a new frame:  True\n",
      "Read a new frame:  True\n",
      "Read a new frame:  True\n",
      "Read a new frame:  True\n",
      "Read a new frame:  True\n",
      "Read a new frame:  True\n",
      "Read a new frame:  True\n",
      "Read a new frame:  True\n",
      "Read a new frame:  True\n",
      "Read a new frame:  True\n",
      "Read a new frame:  True\n",
      "Read a new frame:  True\n",
      "Read a new frame:  True\n",
      "Read a new frame:  True\n",
      "Read a new frame:  True\n",
      "Read a new frame:  True\n",
      "Read a new frame:  True\n",
      "Read a new frame:  True\n",
      "Read a new frame:  True\n",
      "Read a new frame:  True\n",
      "Read a new frame:  True\n",
      "Read a new frame:  True\n",
      "Read a new frame:  True\n",
      "Read a new frame:  True\n",
      "Read a new frame:  True\n",
      "Read a new frame:  True\n",
      "Read a new frame:  True\n",
      "Read a new frame:  True\n",
      "Read a new frame:  True\n",
      "Read a new frame:  True\n",
      "Read a new frame:  True\n",
      "Read a new frame:  True\n",
      "Read a new frame:  True\n",
      "Read a new frame:  True\n",
      "Read a new frame:  True\n",
      "Read a new frame:  True\n",
      "Read a new frame:  True\n",
      "Read a new frame:  True\n",
      "Read a new frame:  True\n",
      "Read a new frame:  True\n",
      "Read a new frame:  True\n",
      "Read a new frame:  True\n",
      "Read a new frame:  True\n",
      "Read a new frame:  True\n",
      "Read a new frame:  True\n",
      "Read a new frame:  True\n",
      "Read a new frame:  True\n",
      "Read a new frame:  True\n",
      "Read a new frame:  True\n",
      "Read a new frame:  True\n",
      "Read a new frame:  True\n",
      "Read a new frame:  True\n",
      "Read a new frame:  True\n",
      "Read a new frame:  True\n",
      "Read a new frame:  True\n",
      "Read a new frame:  True\n",
      "Read a new frame:  True\n",
      "Read a new frame:  True\n",
      "Read a new frame:  True\n",
      "Read a new frame:  True\n",
      "Read a new frame:  True\n",
      "Read a new frame:  True\n",
      "Read a new frame:  True\n",
      "Read a new frame:  True\n",
      "Read a new frame:  True\n",
      "Read a new frame:  True\n",
      "Read a new frame:  True\n",
      "Read a new frame:  True\n",
      "Read a new frame:  True\n",
      "Read a new frame:  True\n",
      "Read a new frame:  True\n",
      "Read a new frame:  True\n",
      "Read a new frame:  True\n",
      "Read a new frame:  True\n",
      "Read a new frame:  True\n",
      "Read a new frame:  True\n",
      "Read a new frame:  True\n",
      "Read a new frame:  True\n",
      "Read a new frame:  True\n",
      "Read a new frame:  True\n",
      "Read a new frame:  True\n",
      "Read a new frame:  True\n",
      "Read a new frame:  True\n",
      "Read a new frame:  True\n",
      "Read a new frame:  True\n",
      "Read a new frame:  True\n",
      "Read a new frame:  True\n"
     ]
    }
   ],
   "source": [
    "import cv2\n",
    "import os\n",
    "import numpy as np\n",
    "\n",
    "#Reading the video\n",
    "vidcap = cv2.VideoCapture('./videos/play/test_10.mp4')\n",
    "success,image = vidcap.read()\n",
    "count = 0\n",
    "success = True\n",
    "idx = 0\n",
    "frame_width = int(vidcap.get(3))\n",
    "frame_height = int(vidcap.get(4))\n",
    "   \n",
    "size = (frame_width, frame_height)\n",
    "result = cv2.VideoWriter('filename.avi', cv2.VideoWriter_fourcc(*'MJPG'),10, size)\n",
    "#Read the video frame by frame\n",
    "while success:\n",
    "    #result = cv2.VideoWriter('filename.avi', cv2.VideoWriter_fourcc(*'MJPG'),10, size)\n",
    "\t#converting into hsv image\n",
    "    hsv = cv2.cvtColor(image,cv2.COLOR_BGR2HSV)\n",
    "    #hsv = cv2.cvtColor(image,cv2.COLOR_BGR2GRAY)\n",
    "\t#green range\n",
    "    lower_green = np.array([40,40, 40])\n",
    "    upper_green = np.array([70, 255, 255])\n",
    "\t#blue range\n",
    "    lower_blue = np.array([110,50,50])\n",
    "    upper_blue = np.array([130,255,255])\n",
    "\n",
    "\t#Red range\n",
    "    lower_red = np.array([0,31,255])\n",
    "    upper_red = np.array([176,255,255])\n",
    "\n",
    "\t#white range\n",
    "    lower_white = np.array([0,0,0])\n",
    "    upper_white = np.array([0,0,255])\n",
    "    \n",
    "    #Define a mask ranging from lower to uppper\n",
    "    mask = cv2.inRange(hsv, lower_green, upper_green)\n",
    "    #Do masking\n",
    "    res = cv2.bitwise_and(image, image, mask=mask)\n",
    "\t#convert to hsv to gray\n",
    "    res_bgr = cv2.cvtColor(res,cv2.COLOR_HSV2BGR)\n",
    "    res_gray = cv2.cvtColor(res,cv2.COLOR_BGR2GRAY)\n",
    "\n",
    "    #Defining a kernel to do morphological operation in threshold image to \n",
    "    #get better output.\n",
    "    kernel = np.ones((13,13),np.uint8)\n",
    "    thresh = cv2.threshold(res_gray,127,255,cv2.THRESH_BINARY_INV | cv2.THRESH_OTSU)[1]\n",
    "    thresh = cv2.morphologyEx(thresh, cv2.MORPH_CLOSE, kernel)\n",
    "\t\n",
    "\n",
    "    #find contours in threshold image     \n",
    "\t#im2,contours,hierarchy = cv2.findContours(thresh,cv2.RETR_TREE,cv2.CHAIN_APPROX_SIMPLE)\n",
    "    contours,hierarchy = cv2.findContours(thresh,cv2.RETR_TREE,cv2.CHAIN_APPROX_SIMPLE)\n",
    "\n",
    "    prev = 0\n",
    "    font = cv2.FONT_HERSHEY_SIMPLEX\n",
    "\t\n",
    "    for c in contours:\n",
    "        x,y,w,h = cv2.boundingRect(c)\n",
    "\t\t\n",
    "\t\t#Detect players\n",
    "        if(h>=(1.5)*w):\n",
    "            if(w>15 and h>= 15):\n",
    "                idx = idx+1\n",
    "                player_img = image[y:y+h,x:x+w]\n",
    "                player_hsv = cv2.cvtColor(player_img,cv2.COLOR_BGR2HSV)\n",
    "                #If player has blue jersy\n",
    "                mask1 = cv2.inRange(player_hsv, lower_blue, upper_blue)\n",
    "                res1 = cv2.bitwise_and(player_img, player_img, mask=mask1)\n",
    "                res1 = cv2.cvtColor(res1,cv2.COLOR_HSV2BGR)\n",
    "                res1 = cv2.cvtColor(res1,cv2.COLOR_BGR2GRAY)\n",
    "                nzCount = cv2.countNonZero(res1)\n",
    "                #If player has red jersy\n",
    "                mask2 = cv2.inRange(player_hsv, lower_red, upper_red)\n",
    "                res2 = cv2.bitwise_and(player_img, player_img, mask=mask2)\n",
    "                res2 = cv2.cvtColor(res2,cv2.COLOR_HSV2BGR)\n",
    "                res2 = cv2.cvtColor(res2,cv2.COLOR_BGR2GRAY)\n",
    "                nzCountred = cv2.countNonZero(res2)\n",
    "\n",
    "                if(nzCount >= 20):\n",
    "                    #Mark blue jersy players as france\n",
    "                    cv2.putText(image, 'WHITE TEAM', (x-2, y-2), font, 0.8, (0,255,0), 2, cv2.LINE_AA)\n",
    "                    cv2.rectangle(image,(x,y),(x+w,y+h),(255,255,255),3)\n",
    "                else:\n",
    "                    pass\n",
    "                if(nzCountred>=20):\n",
    "                    #Mark red jersy players as belgium\n",
    "                    cv2.putText(image, 'RED TEAM', (x-2, y-2), font, 0.8, (0,0,255), 2, cv2.LINE_AA)\n",
    "                    cv2.rectangle(image,(x,y),(x+w,y+h),(0,0,255),3)\n",
    "                else:\n",
    "                    pass\n",
    "        if((h>=1 and w>=1) and (h<=30 and w<=30)):\n",
    "            player_img = image[y:y+h,x:x+w]\n",
    "\t\t\n",
    "            player_hsv = cv2.cvtColor(player_img,cv2.COLOR_BGR2HSV)\n",
    "            #white ball  detection\n",
    "            mask1 = cv2.inRange(player_hsv, lower_white, upper_white)\n",
    "            res1 = cv2.bitwise_and(player_img, player_img, mask=mask1)\n",
    "            res1 = cv2.cvtColor(res1,cv2.COLOR_HSV2BGR)\n",
    "            res1 = cv2.cvtColor(res1,cv2.COLOR_BGR2GRAY)\n",
    "            nzCount = cv2.countNonZero(res1)\n",
    "\t\n",
    "\n",
    "            if(nzCount >= 3):\n",
    "                # detect football\n",
    "                cv2.putText(image, 'football', (x-2, y-2), font, 0.8, (0,255,0), 2, cv2.LINE_AA)\n",
    "                cv2.rectangle(image,(x,y),(x+w,y+h),(0,255,0),3)\n",
    "\n",
    "\n",
    "    #cv2.imwrite(\"./videos/img/frame%d.jpg\" % count, res)\n",
    "    print('Read a new frame: ', success)     # save frame as JPEG file\t\n",
    "    count += 1\n",
    "    cv2.imshow('Match Detection',image)\n",
    "    result.write(image)\n",
    "    if cv2.waitKey(1) & 0xFF == ord('q'):\n",
    "        break\n",
    "    success,image = vidcap.read()\n",
    "    \n",
    "vidcap.release()\n",
    "cv2.destroyAllWindows()"
   ]
  },
  {
   "cell_type": "code",
   "execution_count": null,
   "id": "9cac2c25-875a-41c0-85db-0f5b225ca313",
   "metadata": {},
   "outputs": [],
   "source": []
  }
 ],
 "metadata": {
  "kernelspec": {
   "display_name": "Python 3 (ipykernel)",
   "language": "python",
   "name": "python3"
  },
  "language_info": {
   "codemirror_mode": {
    "name": "ipython",
    "version": 3
   },
   "file_extension": ".py",
   "mimetype": "text/x-python",
   "name": "python",
   "nbconvert_exporter": "python",
   "pygments_lexer": "ipython3",
   "version": "3.9.13"
  }
 },
 "nbformat": 4,
 "nbformat_minor": 5
}
