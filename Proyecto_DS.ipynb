{
 "cells": [
  {
   "cell_type": "markdown",
   "id": "57ddaf55",
   "metadata": {},
   "source": [
    "## Universidad del Valle de Guatemala\n",
    "##### Integrantes\n",
    "* Juan Manuel Marroquin Alfaro 19845\n",
    "* Carlos Alberto Raxtúm Ramos 19721\n",
    "* Jose Abraham Gutierrez Corado 19111\n",
    "* Walter Danilo Saldaña Salguero 19897\n",
    "* Javier Alejandro Cotto Argueta 19324"
   ]
  },
  {
   "cell_type": "markdown",
   "id": "f59f65fc",
   "metadata": {},
   "source": [
    "## Investigación de PLN y Sistemas de Recomendación"
   ]
  },
  {
   "cell_type": "markdown",
   "id": "32e75fc9",
   "metadata": {},
   "source": [
    "Primeramente, la base de datos que escogimos esta basada en grabaciones de partidos de futbol de la liga alemana. Donde estos videos estan transcribidos\n",
    "de forma que cada evento que ocurra en el partido se almacena, junto a su tiempo del evento(en segundo) y con su tipo de evento(pase, perdida/ganancia de posesión,\n",
    "inicio y fin de la jugada, tiro libre, entre otras más). En base a esto, podemos detectar y reconocer cada tipo de evento que ocurra en un partido, en este caso\n",
    "detectaremos lo que son los pases.\n",
    "\n",
    "### Como parte de las tecnicas usadas para el Procesamiento de Lenguaje Natural, existen varias:\n",
    "\n",
    "- Tokenizar\n",
    "Esta tecnica consiste en separar cada palabra del texto  en entidades llamadas \"tokens\", de esta forma tendremos un mejor orden al trabajar con estas. Ademas de ello\n",
    "a la hora de utilizar esta tecnica, se requiere identificar que utilizaremos como token y que no, por ejemplo contar las mayusculas y minusculas como un token o dos, \n",
    "los signos de puntuación seran tokens o no, y asi sucesivamente con cualquier letra o simbolo dentro de nuestras palabras.\n",
    "\n",
    "- Tagging Part of Speech(PoS)\n",
    "Esta tecnica se le conoce asi porque practicamente es trabajar las palabras como lo hacemos en la \"vida real\". Esto se debe a que clasificamos y reconocemos oraciones\n",
    "mediante separarlas en articulo, verbo, sustantivo, adjetivo, entre otras más.\n",
    "\n",
    "- Shallow parsing\n",
    "Esta tecnica combina las dos anteriores, esto se debe a que con cada token obtenido y con cada clasificación hecha mediante PoS, se realiza un arbol que permite a la\n",
    "computadora, navegar y moverse por el facilitando asi el entendimieno del lenguaje común para formar oraciones y con ellas parrafos.\n",
    "\n",
    "- Pragmatic Analysis\n",
    "Esta tecnica es más complicada para implemenetar, pues ademas de las anteriores, se incluye una clasificación de el como se mencionan o dicen las cosas. Esto quiere decir\n",
    "que la tecnica se basa en interpretar el modo de las palabras, tales como sarcasmo, ironía, etc.\n",
    "\n",
    "- Bag of Words\n",
    "Esta tecnica combina el Tokenizar con el uso de matrices. Prácticamente llevara un conteo de las palabras que aparezcan en cierto parrafo mediante los tokens antes recabados.\n",
    "\n",
    "- word2vec\n",
    "Esta tecnica creemos que es una de las más eficientes, ya que recaba y memoriza cientos y cientos de palabras utilizadas en diferentes contextos. En base a estas, realiza\n",
    "matrices de 300 dimensiones, las cuales guardan cada palabra cerca de otras palabras similares y de esta forma crear vocabularios que pueden ser utilizados por la \n",
    "computadora para interpretar cualquier parrafo.\n"
   ]
  },
  {
   "cell_type": "markdown",
   "id": "0072bd16",
   "metadata": {},
   "source": [
    "# Problema planteado y datos\n",
    "\n",
    "El problema es que hoy en día, la información y estadísticas de los partidos de fútbol son generados de forma manual por operadores humanos en tiempo real. Por la naturaleza de estos datos, son exclusivos para el uso de los profesionales que generan y por ende son dueños de los mismos datos o para competencias profesionales. Sin embargo, esta data sería muy valiosa para otras aplicaciones como por ejemplo para el fichaje y descrubrimiento de talento jóven, que quizá aún no tengan mucha visibilidad para las grandes organizaciones y por lo tanto no generen sufiecientes datos estadísticos para tener visibilidad y que no pasen por alto.\n",
    "\n",
    "Para esto se nos pide poder detectar en videos de forma automática los pases en un partido inlcuyendose saques de banda y centros; y enfrentamientos entre jugadores de equipos contrarios en sus diferentes categorías (falta, robo de balón, entre otros), pasa así poder analizar competiciones inexploradas, como ligas juveniles o semiprofesionales o incluso sesiones de entrenamiento para así poder identificar talento oculto.\n",
    "\n",
    "Los datos obtenidos de los clips de video nos serán de ayuda para entrenar un modelo que logre clasificar los eventos del partido en las categorías indicadas en función del tiempo del partido para así poder identificar los eventos de interes a los solicitados por los fichadores."
   ]
  },
  {
   "cell_type": "markdown",
   "id": "43242e72",
   "metadata": {},
   "source": [
    "### Importar Librearías"
   ]
  },
  {
   "cell_type": "code",
   "execution_count": 19,
   "id": "4b6d15c2",
   "metadata": {},
   "outputs": [],
   "source": [
    "import os\n",
    "import pandas as pd\n",
    "import numpy as np\n",
    "import matplotlib.pyplot as plt\n",
    "from sklearn import datasets\n",
    "from scipy.stats import norm\n",
    "import scipy.stats as stats\n",
    "import seaborn as sns\n",
    "from moviepy.video.io.ffmpeg_tools import ffmpeg_extract_subclip\n",
    "from IPython.display import Video\n",
    "from pandas_profiling import ProfileReport\n",
    "%matplotlib inline"
   ]
  },
  {
   "cell_type": "markdown",
   "id": "b054617c",
   "metadata": {},
   "source": [
    "### Analisis Exploratorio"
   ]
  },
  {
   "cell_type": "code",
   "execution_count": 2,
   "id": "be463996",
   "metadata": {},
   "outputs": [],
   "source": [
    "pd.set_option(\"display.max_columns\", None)"
   ]
  },
  {
   "cell_type": "code",
   "execution_count": 3,
   "id": "e825ae15",
   "metadata": {},
   "outputs": [],
   "source": [
    "train = pd.read_csv('./videos/train.csv',low_memory=False)\n",
    "# convert Nan to empty list\n",
    "train[['event_attributes']] = train[['event_attributes']].fillna('')"
   ]
  },
  {
   "cell_type": "code",
   "execution_count": 4,
   "id": "0b13f557",
   "metadata": {},
   "outputs": [
    {
     "data": {
      "text/html": [
       "<div>\n",
       "<style scoped>\n",
       "    .dataframe tbody tr th:only-of-type {\n",
       "        vertical-align: middle;\n",
       "    }\n",
       "\n",
       "    .dataframe tbody tr th {\n",
       "        vertical-align: top;\n",
       "    }\n",
       "\n",
       "    .dataframe thead th {\n",
       "        text-align: right;\n",
       "    }\n",
       "</style>\n",
       "<table border=\"1\" class=\"dataframe\">\n",
       "  <thead>\n",
       "    <tr style=\"text-align: right;\">\n",
       "      <th></th>\n",
       "      <th>video_id</th>\n",
       "      <th>time</th>\n",
       "      <th>event</th>\n",
       "      <th>event_attributes</th>\n",
       "    </tr>\n",
       "  </thead>\n",
       "  <tbody>\n",
       "    <tr>\n",
       "      <th>0</th>\n",
       "      <td>1606b0e6_0</td>\n",
       "      <td>200.265822</td>\n",
       "      <td>start</td>\n",
       "      <td></td>\n",
       "    </tr>\n",
       "    <tr>\n",
       "      <th>1</th>\n",
       "      <td>1606b0e6_0</td>\n",
       "      <td>201.150000</td>\n",
       "      <td>challenge</td>\n",
       "      <td>['ball_action_forced']</td>\n",
       "    </tr>\n",
       "    <tr>\n",
       "      <th>2</th>\n",
       "      <td>1606b0e6_0</td>\n",
       "      <td>202.765822</td>\n",
       "      <td>end</td>\n",
       "      <td></td>\n",
       "    </tr>\n",
       "    <tr>\n",
       "      <th>3</th>\n",
       "      <td>1606b0e6_0</td>\n",
       "      <td>210.124111</td>\n",
       "      <td>start</td>\n",
       "      <td></td>\n",
       "    </tr>\n",
       "    <tr>\n",
       "      <th>4</th>\n",
       "      <td>1606b0e6_0</td>\n",
       "      <td>210.870000</td>\n",
       "      <td>challenge</td>\n",
       "      <td>['opponent_dispossessed']</td>\n",
       "    </tr>\n",
       "  </tbody>\n",
       "</table>\n",
       "</div>"
      ],
      "text/plain": [
       "     video_id        time      event           event_attributes\n",
       "0  1606b0e6_0  200.265822      start                           \n",
       "1  1606b0e6_0  201.150000  challenge     ['ball_action_forced']\n",
       "2  1606b0e6_0  202.765822        end                           \n",
       "3  1606b0e6_0  210.124111      start                           \n",
       "4  1606b0e6_0  210.870000  challenge  ['opponent_dispossessed']"
      ]
     },
     "execution_count": 4,
     "metadata": {},
     "output_type": "execute_result"
    }
   ],
   "source": [
    "train.head()"
   ]
  },
  {
   "cell_type": "markdown",
   "id": "919807d6",
   "metadata": {},
   "source": [
    "Datos estadisticos"
   ]
  },
  {
   "cell_type": "code",
   "execution_count": 5,
   "id": "c2643cb9",
   "metadata": {},
   "outputs": [
    {
     "data": {
      "text/html": [
       "<div>\n",
       "<style scoped>\n",
       "    .dataframe tbody tr th:only-of-type {\n",
       "        vertical-align: middle;\n",
       "    }\n",
       "\n",
       "    .dataframe tbody tr th {\n",
       "        vertical-align: top;\n",
       "    }\n",
       "\n",
       "    .dataframe thead th {\n",
       "        text-align: right;\n",
       "    }\n",
       "</style>\n",
       "<table border=\"1\" class=\"dataframe\">\n",
       "  <thead>\n",
       "    <tr style=\"text-align: right;\">\n",
       "      <th></th>\n",
       "      <th>count</th>\n",
       "      <th>mean</th>\n",
       "      <th>std</th>\n",
       "      <th>min</th>\n",
       "      <th>25%</th>\n",
       "      <th>50%</th>\n",
       "      <th>75%</th>\n",
       "      <th>max</th>\n",
       "    </tr>\n",
       "  </thead>\n",
       "  <tbody>\n",
       "    <tr>\n",
       "      <th>time</th>\n",
       "      <td>11218.0</td>\n",
       "      <td>1787.796418</td>\n",
       "      <td>860.84597</td>\n",
       "      <td>175.025822</td>\n",
       "      <td>1050.63525</td>\n",
       "      <td>1769.089449</td>\n",
       "      <td>2527.93275</td>\n",
       "      <td>3575.000727</td>\n",
       "    </tr>\n",
       "  </tbody>\n",
       "</table>\n",
       "</div>"
      ],
      "text/plain": [
       "        count         mean        std         min         25%          50%  \\\n",
       "time  11218.0  1787.796418  860.84597  175.025822  1050.63525  1769.089449   \n",
       "\n",
       "             75%          max  \n",
       "time  2527.93275  3575.000727  "
      ]
     },
     "execution_count": 5,
     "metadata": {},
     "output_type": "execute_result"
    }
   ],
   "source": [
    "train.describe().transpose()"
   ]
  },
  {
   "cell_type": "code",
   "execution_count": 6,
   "id": "8bd305b8",
   "metadata": {},
   "outputs": [
    {
     "data": {
      "text/html": [
       "<div>\n",
       "<style scoped>\n",
       "    .dataframe tbody tr th:only-of-type {\n",
       "        vertical-align: middle;\n",
       "    }\n",
       "\n",
       "    .dataframe tbody tr th {\n",
       "        vertical-align: top;\n",
       "    }\n",
       "\n",
       "    .dataframe thead th {\n",
       "        text-align: right;\n",
       "    }\n",
       "</style>\n",
       "<table border=\"1\" class=\"dataframe\">\n",
       "  <thead>\n",
       "    <tr style=\"text-align: right;\">\n",
       "      <th></th>\n",
       "      <th>count</th>\n",
       "      <th>unique</th>\n",
       "      <th>top</th>\n",
       "      <th>freq</th>\n",
       "    </tr>\n",
       "  </thead>\n",
       "  <tbody>\n",
       "    <tr>\n",
       "      <th>video_id</th>\n",
       "      <td>11218</td>\n",
       "      <td>12</td>\n",
       "      <td>1606b0e6_1</td>\n",
       "      <td>1249</td>\n",
       "    </tr>\n",
       "    <tr>\n",
       "      <th>event</th>\n",
       "      <td>11218</td>\n",
       "      <td>5</td>\n",
       "      <td>play</td>\n",
       "      <td>3586</td>\n",
       "    </tr>\n",
       "    <tr>\n",
       "      <th>event_attributes</th>\n",
       "      <td>11218</td>\n",
       "      <td>15</td>\n",
       "      <td></td>\n",
       "      <td>6836</td>\n",
       "    </tr>\n",
       "  </tbody>\n",
       "</table>\n",
       "</div>"
      ],
      "text/plain": [
       "                  count unique         top  freq\n",
       "video_id          11218     12  1606b0e6_1  1249\n",
       "event             11218      5        play  3586\n",
       "event_attributes  11218     15              6836"
      ]
     },
     "execution_count": 6,
     "metadata": {},
     "output_type": "execute_result"
    }
   ],
   "source": [
    "train.describe(include=['O']).transpose()"
   ]
  },
  {
   "cell_type": "markdown",
   "id": "b1b47191",
   "metadata": {},
   "source": [
    "####  Cantidad de existencia de cada evento"
   ]
  },
  {
   "cell_type": "code",
   "execution_count": 9,
   "id": "0e5dcc9b",
   "metadata": {},
   "outputs": [
    {
     "data": {
      "text/plain": [
       "<AxesSubplot:xlabel='count', ylabel='event'>"
      ]
     },
     "execution_count": 9,
     "metadata": {},
     "output_type": "execute_result"
    },
    {
     "data": {
      "image/png": "[encoded data removed]",
      "text/plain": [
       "<Figure size 1152x360 with 1 Axes>"
      ]
     },
     "metadata": {
      "needs_background": "light"
     },
     "output_type": "display_data"
    }
   ],
   "source": [
    "plt.figure(figsize=(16, 5))\n",
    "sns.countplot(data=train, y=\"event\")"
   ]
  },
  {
   "cell_type": "markdown",
   "id": "61afdb87",
   "metadata": {},
   "source": [
    "#### Muestreo de los eventos en cierto video"
   ]
  },
  {
   "cell_type": "code",
   "execution_count": 11,
   "id": "a6451436",
   "metadata": {},
   "outputs": [
    {
     "data": {
      "text/plain": [
       "<AxesSubplot:xlabel='count', ylabel='video_id'>"
      ]
     },
     "execution_count": 11,
     "metadata": {},
     "output_type": "execute_result"
    },
    {
     "data": {
      "image/png": "[encoded data removed]",
      "text/plain": [
       "<Figure size 1152x360 with 1 Axes>"
      ]
     },
     "metadata": {
      "needs_background": "light"
     },
     "output_type": "display_data"
    }
   ],
   "source": [
    "plt.figure(figsize=(16, 5))\n",
    "sns.countplot(data=train, y=\"video_id\")"
   ]
  },
  {
   "cell_type": "markdown",
   "id": "d1d89d5f",
   "metadata": {},
   "source": [
    "#### Duración de eventos"
   ]
  },
  {
   "cell_type": "code",
   "execution_count": 12,
   "id": "051f4185",
   "metadata": {},
   "outputs": [
    {
     "data": {
      "text/plain": [
       "<AxesSubplot:xlabel='count', ylabel='video_id'>"
      ]
     },
     "execution_count": 12,
     "metadata": {},
     "output_type": "execute_result"
    },
    {
     "data": {
      "image/png": "[encoded data removed]",
      "text/plain": [
       "<Figure size 1152x360 with 1 Axes>"
      ]
     },
     "metadata": {
      "needs_background": "light"
     },
     "output_type": "display_data"
    }
   ],
   "source": [
    "plt.figure(figsize=(16, 5))\n",
    "sns.countplot(data=train[(train[\"event\"] != \"start\") & (train[\"event\"] != \"end\")], y=\"video_id\")"
   ]
  },
  {
   "cell_type": "markdown",
   "id": "09ef2a1f",
   "metadata": {},
   "source": [
    "## Eventos existentes en el dataset"
   ]
  },
  {
   "cell_type": "markdown",
   "id": "d4995e44",
   "metadata": {},
   "source": [
    "### Visualizador de eventos"
   ]
  },
  {
   "cell_type": "code",
   "execution_count": 26,
   "id": "c60b1176",
   "metadata": {},
   "outputs": [],
   "source": [
    "def vis_event(row, before=5, after=5):\n",
    "    print(row[\"event_attributes\"])\n",
    "    filename = f\"test_{row['index']}.mp4\"\n",
    "    ffmpeg_extract_subclip(\n",
    "        f\"../detection_passes_football/videos/{row['video_id']}.mp4\", \n",
    "        int(row['time']) - before, \n",
    "        int(row['time']) + after, \n",
    "        targetname=filename,\n",
    "    )\n",
    "    \n",
    "    return Video(filename, width=800)"
   ]
  },
  {
   "cell_type": "markdown",
   "id": "64415278",
   "metadata": {},
   "source": [
    "### Throwing"
   ]
  },
  {
   "cell_type": "markdown",
   "id": "ccedf109",
   "metadata": {},
   "source": [
    "Un saque de banda se refiere a una situación en la que el juego se reinicia después de que el balón salió de juego por la línea de banda tras el toque del equipo contrario. El balón debe lanzarse con las manos, por detrás y por encima de la cabeza del jugador ejecutor."
   ]
  },
  {
   "cell_type": "code",
   "execution_count": 23,
   "id": "83e5cf00",
   "metadata": {},
   "outputs": [],
   "source": [
    "df_throwin = train[train[\"event\"] == \"throwin\"].reset_index()"
   ]
  },
  {
   "cell_type": "markdown",
   "id": "0602a9cc",
   "metadata": {},
   "source": [
    "Visualización de los eventos que perteneces a Throwing"
   ]
  },
  {
   "cell_type": "code",
   "execution_count": 14,
   "id": "33046cfa",
   "metadata": {},
   "outputs": [
    {
     "data": {
      "text/plain": [
       "<AxesSubplot:xlabel='count', ylabel='event_attributes'>"
      ]
     },
     "execution_count": 14,
     "metadata": {},
     "output_type": "execute_result"
    },
    {
     "data": {
      "image/png": "[encoded data removed]",
      "text/plain": [
       "<Figure size 1152x216 with 1 Axes>"
      ]
     },
     "metadata": {
      "needs_background": "light"
     },
     "output_type": "display_data"
    }
   ],
   "source": [
    "plt.figure(figsize=(16, 3))\n",
    "sns.countplot(data=df_throwin, y=\"event_attributes\")"
   ]
  },
  {
   "cell_type": "markdown",
   "id": "94c6e152",
   "metadata": {},
   "source": [
    "Visualización de los eventos que perteneces a Throwing según el ID del video"
   ]
  },
  {
   "cell_type": "code",
   "execution_count": 15,
   "id": "59a3ddc9",
   "metadata": {},
   "outputs": [
    {
     "data": {
      "text/plain": [
       "<AxesSubplot:xlabel='video_id', ylabel='count'>"
      ]
     },
     "execution_count": 15,
     "metadata": {},
     "output_type": "execute_result"
    },
    {
     "data": {
      "image/png": "[encoded data removed]",
      "text/plain": [
       "<Figure size 1152x432 with 1 Axes>"
      ]
     },
     "metadata": {
      "needs_background": "light"
     },
     "output_type": "display_data"
    }
   ],
   "source": [
    "plt.figure(figsize=(16, 6))\n",
    "sns.countplot(data=df_throwin, x=\"video_id\", hue=\"event_attributes\")"
   ]
  },
  {
   "cell_type": "markdown",
   "id": "6b7f2be0",
   "metadata": {},
   "source": [
    "#### Pase"
   ]
  },
  {
   "cell_type": "markdown",
   "id": "92f734be",
   "metadata": {},
   "source": [
    "Definido como cualquier intento de cambiar el control del balón a otro miembro del equipo que no satisface la definición cruzada."
   ]
  },
  {
   "cell_type": "code",
   "execution_count": 27,
   "id": "f901aa25",
   "metadata": {},
   "outputs": [
    {
     "name": "stdout",
     "output_type": "stream",
     "text": [
      "['pass']\n",
      "Moviepy - Running:\n",
      ">>> \"+ \" \".join(cmd)\n",
      "Moviepy - Command returned an error\n"
     ]
    },
    {
     "ename": "OSError",
     "evalue": "ffmpeg version 4.2.2 Copyright (c) 2000-2019 the FFmpeg developers\r\n  built with gcc 9.2.1 (GCC) 20200122\r\n  configuration: --enable-gpl --enable-version3 --enable-sdl2 --enable-fontconfig --enable-gnutls --enable-iconv --enable-libass --enable-libdav1d --enable-libbluray --enable-libfreetype --enable-libmp3lame --enable-libopencore-amrnb --enable-libopencore-amrwb --enable-libopenjpeg --enable-libopus --enable-libshine --enable-libsnappy --enable-libsoxr --enable-libtheora --enable-libtwolame --enable-libvpx --enable-libwavpack --enable-libwebp --enable-libx264 --enable-libx265 --enable-libxml2 --enable-libzimg --enable-lzma --enable-zlib --enable-gmp --enable-libvidstab --enable-libvorbis --enable-libvo-amrwbenc --enable-libmysofa --enable-libspeex --enable-libxvid --enable-libaom --enable-libmfx --enable-amf --enable-ffnvcodec --enable-cuvid --enable-d3d11va --enable-nvenc --enable-nvdec --enable-dxva2 --enable-avisynth --enable-libopenmpt\r\n  libavutil      56. 31.100 / 56. 31.100\r\n  libavcodec     58. 54.100 / 58. 54.100\r\n  libavformat    58. 29.100 / 58. 29.100\r\n  libavdevice    58.  8.100 / 58.  8.100\r\n  libavfilter     7. 57.100 /  7. 57.100\r\n  libswscale      5.  5.100 /  5.  5.100\r\n  libswresample   3.  5.100 /  3.  5.100\r\n  libpostproc    55.  5.100 / 55.  5.100\r\n../videos/train.csv/1606b0e6_0.mp4: No such file or directory\r\n",
     "output_type": "error",
     "traceback": [
      "\u001b[1;31m---------------------------------------------------------------------------\u001b[0m",
      "\u001b[1;31mOSError\u001b[0m                                   Traceback (most recent call last)",
      "Input \u001b[1;32mIn [27]\u001b[0m, in \u001b[0;36m<module>\u001b[1;34m\u001b[0m\n\u001b[1;32m----> 1\u001b[0m \u001b[43mvis_event\u001b[49m\u001b[43m(\u001b[49m\u001b[43mdf_throwin\u001b[49m\u001b[38;5;241;43m.\u001b[39;49m\u001b[43miloc\u001b[49m\u001b[43m[\u001b[49m\u001b[38;5;241;43m0\u001b[39;49m\u001b[43m]\u001b[49m\u001b[43m)\u001b[49m\n",
      "Input \u001b[1;32mIn [26]\u001b[0m, in \u001b[0;36mvis_event\u001b[1;34m(row, before, after)\u001b[0m\n\u001b[0;32m      2\u001b[0m \u001b[38;5;28mprint\u001b[39m(row[\u001b[38;5;124m\"\u001b[39m\u001b[38;5;124mevent_attributes\u001b[39m\u001b[38;5;124m\"\u001b[39m])\n\u001b[0;32m      3\u001b[0m filename \u001b[38;5;241m=\u001b[39m \u001b[38;5;124mf\u001b[39m\u001b[38;5;124m\"\u001b[39m\u001b[38;5;124mtest_\u001b[39m\u001b[38;5;132;01m{\u001b[39;00mrow[\u001b[38;5;124m'\u001b[39m\u001b[38;5;124mindex\u001b[39m\u001b[38;5;124m'\u001b[39m]\u001b[38;5;132;01m}\u001b[39;00m\u001b[38;5;124m.mp4\u001b[39m\u001b[38;5;124m\"\u001b[39m\n\u001b[1;32m----> 4\u001b[0m \u001b[43mffmpeg_extract_subclip\u001b[49m\u001b[43m(\u001b[49m\n\u001b[0;32m      5\u001b[0m \u001b[43m    \u001b[49m\u001b[38;5;124;43mf\u001b[39;49m\u001b[38;5;124;43m\"\u001b[39;49m\u001b[38;5;124;43m../videos/train.csv/\u001b[39;49m\u001b[38;5;132;43;01m{\u001b[39;49;00m\u001b[43mrow\u001b[49m\u001b[43m[\u001b[49m\u001b[38;5;124;43m'\u001b[39;49m\u001b[38;5;124;43mvideo_id\u001b[39;49m\u001b[38;5;124;43m'\u001b[39;49m\u001b[43m]\u001b[49m\u001b[38;5;132;43;01m}\u001b[39;49;00m\u001b[38;5;124;43m.mp4\u001b[39;49m\u001b[38;5;124;43m\"\u001b[39;49m\u001b[43m,\u001b[49m\u001b[43m \u001b[49m\n\u001b[0;32m      6\u001b[0m \u001b[43m    \u001b[49m\u001b[38;5;28;43mint\u001b[39;49m\u001b[43m(\u001b[49m\u001b[43mrow\u001b[49m\u001b[43m[\u001b[49m\u001b[38;5;124;43m'\u001b[39;49m\u001b[38;5;124;43mtime\u001b[39;49m\u001b[38;5;124;43m'\u001b[39;49m\u001b[43m]\u001b[49m\u001b[43m)\u001b[49m\u001b[43m \u001b[49m\u001b[38;5;241;43m-\u001b[39;49m\u001b[43m \u001b[49m\u001b[43mbefore\u001b[49m\u001b[43m,\u001b[49m\u001b[43m \u001b[49m\n\u001b[0;32m      7\u001b[0m \u001b[43m    \u001b[49m\u001b[38;5;28;43mint\u001b[39;49m\u001b[43m(\u001b[49m\u001b[43mrow\u001b[49m\u001b[43m[\u001b[49m\u001b[38;5;124;43m'\u001b[39;49m\u001b[38;5;124;43mtime\u001b[39;49m\u001b[38;5;124;43m'\u001b[39;49m\u001b[43m]\u001b[49m\u001b[43m)\u001b[49m\u001b[43m \u001b[49m\u001b[38;5;241;43m+\u001b[39;49m\u001b[43m \u001b[49m\u001b[43mafter\u001b[49m\u001b[43m,\u001b[49m\u001b[43m \u001b[49m\n\u001b[0;32m      8\u001b[0m \u001b[43m    \u001b[49m\u001b[43mtargetname\u001b[49m\u001b[38;5;241;43m=\u001b[39;49m\u001b[43mfilename\u001b[49m\u001b[43m,\u001b[49m\n\u001b[0;32m      9\u001b[0m \u001b[43m\u001b[49m\u001b[43m)\u001b[49m\n\u001b[0;32m     11\u001b[0m \u001b[38;5;28;01mreturn\u001b[39;00m Video(filename, width\u001b[38;5;241m=\u001b[39m\u001b[38;5;241m800\u001b[39m)\n",
      "File \u001b[1;32m~\\AppData\\Local\\Programs\\Python\\Python310\\lib\\site-packages\\moviepy\\video\\io\\ffmpeg_tools.py:41\u001b[0m, in \u001b[0;36mffmpeg_extract_subclip\u001b[1;34m(filename, t1, t2, targetname)\u001b[0m\n\u001b[0;32m     33\u001b[0m     targetname \u001b[38;5;241m=\u001b[39m \u001b[38;5;124m\"\u001b[39m\u001b[38;5;132;01m%s\u001b[39;00m\u001b[38;5;124mSUB\u001b[39m\u001b[38;5;132;01m%d\u001b[39;00m\u001b[38;5;124m_\u001b[39m\u001b[38;5;132;01m%d\u001b[39;00m\u001b[38;5;124m.\u001b[39m\u001b[38;5;132;01m%s\u001b[39;00m\u001b[38;5;124m\"\u001b[39m \u001b[38;5;241m%\u001b[39m (name, T1, T2, ext)\n\u001b[0;32m     35\u001b[0m cmd \u001b[38;5;241m=\u001b[39m [get_setting(\u001b[38;5;124m\"\u001b[39m\u001b[38;5;124mFFMPEG_BINARY\u001b[39m\u001b[38;5;124m\"\u001b[39m),\u001b[38;5;124m\"\u001b[39m\u001b[38;5;124m-y\u001b[39m\u001b[38;5;124m\"\u001b[39m,\n\u001b[0;32m     36\u001b[0m        \u001b[38;5;124m\"\u001b[39m\u001b[38;5;124m-ss\u001b[39m\u001b[38;5;124m\"\u001b[39m, \u001b[38;5;124m\"\u001b[39m\u001b[38;5;132;01m%0.2f\u001b[39;00m\u001b[38;5;124m\"\u001b[39m\u001b[38;5;241m%\u001b[39mt1,\n\u001b[0;32m     37\u001b[0m        \u001b[38;5;124m\"\u001b[39m\u001b[38;5;124m-i\u001b[39m\u001b[38;5;124m\"\u001b[39m, filename,\n\u001b[0;32m     38\u001b[0m        \u001b[38;5;124m\"\u001b[39m\u001b[38;5;124m-t\u001b[39m\u001b[38;5;124m\"\u001b[39m, \u001b[38;5;124m\"\u001b[39m\u001b[38;5;132;01m%0.2f\u001b[39;00m\u001b[38;5;124m\"\u001b[39m\u001b[38;5;241m%\u001b[39m(t2\u001b[38;5;241m-\u001b[39mt1),\n\u001b[0;32m     39\u001b[0m        \u001b[38;5;124m\"\u001b[39m\u001b[38;5;124m-map\u001b[39m\u001b[38;5;124m\"\u001b[39m, \u001b[38;5;124m\"\u001b[39m\u001b[38;5;124m0\u001b[39m\u001b[38;5;124m\"\u001b[39m, \u001b[38;5;124m\"\u001b[39m\u001b[38;5;124m-vcodec\u001b[39m\u001b[38;5;124m\"\u001b[39m, \u001b[38;5;124m\"\u001b[39m\u001b[38;5;124mcopy\u001b[39m\u001b[38;5;124m\"\u001b[39m, \u001b[38;5;124m\"\u001b[39m\u001b[38;5;124m-acodec\u001b[39m\u001b[38;5;124m\"\u001b[39m, \u001b[38;5;124m\"\u001b[39m\u001b[38;5;124mcopy\u001b[39m\u001b[38;5;124m\"\u001b[39m, targetname]\n\u001b[1;32m---> 41\u001b[0m \u001b[43msubprocess_call\u001b[49m\u001b[43m(\u001b[49m\u001b[43mcmd\u001b[49m\u001b[43m)\u001b[49m\n",
      "File \u001b[1;32m~\\AppData\\Local\\Programs\\Python\\Python310\\lib\\site-packages\\moviepy\\tools.py:54\u001b[0m, in \u001b[0;36msubprocess_call\u001b[1;34m(cmd, logger, errorprint)\u001b[0m\n\u001b[0;32m     52\u001b[0m     \u001b[38;5;28;01mif\u001b[39;00m errorprint:\n\u001b[0;32m     53\u001b[0m         logger(message\u001b[38;5;241m=\u001b[39m\u001b[38;5;124m'\u001b[39m\u001b[38;5;124mMoviepy - Command returned an error\u001b[39m\u001b[38;5;124m'\u001b[39m)\n\u001b[1;32m---> 54\u001b[0m     \u001b[38;5;28;01mraise\u001b[39;00m \u001b[38;5;167;01mIOError\u001b[39;00m(err\u001b[38;5;241m.\u001b[39mdecode(\u001b[38;5;124m'\u001b[39m\u001b[38;5;124mutf8\u001b[39m\u001b[38;5;124m'\u001b[39m))\n\u001b[0;32m     55\u001b[0m \u001b[38;5;28;01melse\u001b[39;00m:\n\u001b[0;32m     56\u001b[0m     logger(message\u001b[38;5;241m=\u001b[39m\u001b[38;5;124m'\u001b[39m\u001b[38;5;124mMoviepy - Command successful\u001b[39m\u001b[38;5;124m'\u001b[39m)\n",
      "\u001b[1;31mOSError\u001b[0m: ffmpeg version 4.2.2 Copyright (c) 2000-2019 the FFmpeg developers\r\n  built with gcc 9.2.1 (GCC) 20200122\r\n  configuration: --enable-gpl --enable-version3 --enable-sdl2 --enable-fontconfig --enable-gnutls --enable-iconv --enable-libass --enable-libdav1d --enable-libbluray --enable-libfreetype --enable-libmp3lame --enable-libopencore-amrnb --enable-libopencore-amrwb --enable-libopenjpeg --enable-libopus --enable-libshine --enable-libsnappy --enable-libsoxr --enable-libtheora --enable-libtwolame --enable-libvpx --enable-libwavpack --enable-libwebp --enable-libx264 --enable-libx265 --enable-libxml2 --enable-libzimg --enable-lzma --enable-zlib --enable-gmp --enable-libvidstab --enable-libvorbis --enable-libvo-amrwbenc --enable-libmysofa --enable-libspeex --enable-libxvid --enable-libaom --enable-libmfx --enable-amf --enable-ffnvcodec --enable-cuvid --enable-d3d11va --enable-nvenc --enable-nvdec --enable-dxva2 --enable-avisynth --enable-libopenmpt\r\n  libavutil      56. 31.100 / 56. 31.100\r\n  libavcodec     58. 54.100 / 58. 54.100\r\n  libavformat    58. 29.100 / 58. 29.100\r\n  libavdevice    58.  8.100 / 58.  8.100\r\n  libavfilter     7. 57.100 /  7. 57.100\r\n  libswscale      5.  5.100 /  5.  5.100\r\n  libswresample   3.  5.100 /  3.  5.100\r\n  libpostproc    55.  5.100 / 55.  5.100\r\n../videos/train.csv/1606b0e6_0.mp4: No such file or directory\r\n"
     ]
    }
   ],
   "source": [
    "vis_event(df_throwin.iloc[0])"
   ]
  },
  {
   "cell_type": "code",
   "execution_count": 35,
   "id": "92869b07",
   "metadata": {},
   "outputs": [
    {
     "name": "stdout",
     "output_type": "stream",
     "text": [
      "['train.csv']\n"
     ]
    }
   ],
   "source": [
    "print(os.listdir(\"../detection_passes_football/videos/\"))"
   ]
  },
  {
   "cell_type": "code",
   "execution_count": null,
   "id": "dd8c919a",
   "metadata": {},
   "outputs": [],
   "source": []
  }
 ],
 "metadata": {
  "kernelspec": {
   "display_name": "Python 3 (ipykernel)",
   "language": "python",
   "name": "python3"
  },
  "language_info": {
   "codemirror_mode": {
    "name": "ipython",
    "version": 3
   },
   "file_extension": ".py",
   "mimetype": "text/x-python",
   "name": "python",
   "nbconvert_exporter": "python",
   "pygments_lexer": "ipython3",
   "version": "3.10.0"
  }
 },
 "nbformat": 4,
 "nbformat_minor": 5
}
