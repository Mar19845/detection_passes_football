{
 "cells": [
  {
   "cell_type": "markdown",
   "id": "bfb97597-7464-40c2-b7e6-14897d9ceb9d",
   "metadata": {},
   "source": [
    "## Universidad del Valle de Guatemala\n",
    "##### Integrantes\n",
    "* Juan Manuel Marroquin Alfaro 19845\n",
    "* Carlos Alberto Raxtúm Ramos 19721\n",
    "* Jose Abraham Gutierrez Corado 19111\n",
    "* Walter Danilo Saldaña Salguero 19897\n",
    "* Javier Alejandro Cotto Argueta 19324"
   ]
  },
  {
   "cell_type": "markdown",
   "id": "f93d4639-c565-4c79-961b-3a57a3527841",
   "metadata": {},
   "source": [
    "import libraries"
   ]
  },
  {
   "cell_type": "code",
   "execution_count": 1,
   "id": "ebfe366c-fb74-4ae9-80bd-9e5a94df8fee",
   "metadata": {},
   "outputs": [],
   "source": [
    "import os\n",
    "import pandas as pd\n",
    "import numpy as np\n",
    "import matplotlib.pyplot as plt\n",
    "from sklearn import datasets\n",
    "from scipy.stats import norm\n",
    "import seaborn as sns\n",
    "import scipy.stats as stats\n",
    "from pandas_profiling import ProfileReport\n",
    "%matplotlib inline"
   ]
  },
  {
   "cell_type": "code",
   "execution_count": 2,
   "id": "ecef9092-c4fe-467d-940f-ae1889d5085f",
   "metadata": {},
   "outputs": [],
   "source": [
    "pd.set_option(\"display.max_columns\", None)"
   ]
  },
  {
   "cell_type": "code",
   "execution_count": 40,
   "id": "5707e56f-bca6-4e77-8695-155f4624bf06",
   "metadata": {},
   "outputs": [],
   "source": [
    "train = pd.read_csv('./videos/train.csv',low_memory=False)\n",
    "# convert Nan to empty list\n",
    "train[['event_attributes']] = train[['event_attributes']].fillna('')"
   ]
  },
  {
   "cell_type": "code",
   "execution_count": 41,
   "id": "9e6123d0-feeb-4438-ab0f-98a22153390b",
   "metadata": {},
   "outputs": [
    {
     "data": {
      "text/html": [
       "<div>\n",
       "<style scoped>\n",
       "    .dataframe tbody tr th:only-of-type {\n",
       "        vertical-align: middle;\n",
       "    }\n",
       "\n",
       "    .dataframe tbody tr th {\n",
       "        vertical-align: top;\n",
       "    }\n",
       "\n",
       "    .dataframe thead th {\n",
       "        text-align: right;\n",
       "    }\n",
       "</style>\n",
       "<table border=\"1\" class=\"dataframe\">\n",
       "  <thead>\n",
       "    <tr style=\"text-align: right;\">\n",
       "      <th></th>\n",
       "      <th>video_id</th>\n",
       "      <th>time</th>\n",
       "      <th>event</th>\n",
       "      <th>event_attributes</th>\n",
       "    </tr>\n",
       "  </thead>\n",
       "  <tbody>\n",
       "    <tr>\n",
       "      <th>0</th>\n",
       "      <td>1606b0e6_0</td>\n",
       "      <td>200.265822</td>\n",
       "      <td>start</td>\n",
       "      <td></td>\n",
       "    </tr>\n",
       "    <tr>\n",
       "      <th>1</th>\n",
       "      <td>1606b0e6_0</td>\n",
       "      <td>201.150000</td>\n",
       "      <td>challenge</td>\n",
       "      <td>['ball_action_forced']</td>\n",
       "    </tr>\n",
       "    <tr>\n",
       "      <th>2</th>\n",
       "      <td>1606b0e6_0</td>\n",
       "      <td>202.765822</td>\n",
       "      <td>end</td>\n",
       "      <td></td>\n",
       "    </tr>\n",
       "    <tr>\n",
       "      <th>3</th>\n",
       "      <td>1606b0e6_0</td>\n",
       "      <td>210.124111</td>\n",
       "      <td>start</td>\n",
       "      <td></td>\n",
       "    </tr>\n",
       "    <tr>\n",
       "      <th>4</th>\n",
       "      <td>1606b0e6_0</td>\n",
       "      <td>210.870000</td>\n",
       "      <td>challenge</td>\n",
       "      <td>['opponent_dispossessed']</td>\n",
       "    </tr>\n",
       "  </tbody>\n",
       "</table>\n",
       "</div>"
      ],
      "text/plain": [
       "     video_id        time      event           event_attributes\n",
       "0  1606b0e6_0  200.265822      start                           \n",
       "1  1606b0e6_0  201.150000  challenge     ['ball_action_forced']\n",
       "2  1606b0e6_0  202.765822        end                           \n",
       "3  1606b0e6_0  210.124111      start                           \n",
       "4  1606b0e6_0  210.870000  challenge  ['opponent_dispossessed']"
      ]
     },
     "execution_count": 41,
     "metadata": {},
     "output_type": "execute_result"
    }
   ],
   "source": [
    "train.head()"
   ]
  },
  {
   "cell_type": "markdown",
   "id": "0510359a-a286-4b0f-85b3-37aea8565d2d",
   "metadata": {},
   "source": [
    "#### Pequena informacion de los datos antes de manipularlos"
   ]
  },
  {
   "cell_type": "code",
   "execution_count": 7,
   "id": "4f863af3-8d30-440a-b4b7-b23b436127c3",
   "metadata": {},
   "outputs": [
    {
     "data": {
      "text/html": [
       "<div>\n",
       "<style scoped>\n",
       "    .dataframe tbody tr th:only-of-type {\n",
       "        vertical-align: middle;\n",
       "    }\n",
       "\n",
       "    .dataframe tbody tr th {\n",
       "        vertical-align: top;\n",
       "    }\n",
       "\n",
       "    .dataframe thead th {\n",
       "        text-align: right;\n",
       "    }\n",
       "</style>\n",
       "<table border=\"1\" class=\"dataframe\">\n",
       "  <thead>\n",
       "    <tr style=\"text-align: right;\">\n",
       "      <th></th>\n",
       "      <th>count</th>\n",
       "      <th>mean</th>\n",
       "      <th>std</th>\n",
       "      <th>min</th>\n",
       "      <th>25%</th>\n",
       "      <th>50%</th>\n",
       "      <th>75%</th>\n",
       "      <th>max</th>\n",
       "    </tr>\n",
       "  </thead>\n",
       "  <tbody>\n",
       "    <tr>\n",
       "      <th>time</th>\n",
       "      <td>11218.0</td>\n",
       "      <td>1787.796418</td>\n",
       "      <td>860.84597</td>\n",
       "      <td>175.025822</td>\n",
       "      <td>1050.63525</td>\n",
       "      <td>1769.089449</td>\n",
       "      <td>2527.93275</td>\n",
       "      <td>3575.000727</td>\n",
       "    </tr>\n",
       "  </tbody>\n",
       "</table>\n",
       "</div>"
      ],
      "text/plain": [
       "        count         mean        std         min         25%          50%  \\\n",
       "time  11218.0  1787.796418  860.84597  175.025822  1050.63525  1769.089449   \n",
       "\n",
       "             75%          max  \n",
       "time  2527.93275  3575.000727  "
      ]
     },
     "execution_count": 7,
     "metadata": {},
     "output_type": "execute_result"
    }
   ],
   "source": [
    "train.describe().transpose()"
   ]
  },
  {
   "cell_type": "code",
   "execution_count": 34,
   "id": "f93be950-6078-4e12-b713-12a36222df93",
   "metadata": {},
   "outputs": [
    {
     "data": {
      "text/html": [
       "<div>\n",
       "<style scoped>\n",
       "    .dataframe tbody tr th:only-of-type {\n",
       "        vertical-align: middle;\n",
       "    }\n",
       "\n",
       "    .dataframe tbody tr th {\n",
       "        vertical-align: top;\n",
       "    }\n",
       "\n",
       "    .dataframe thead th {\n",
       "        text-align: right;\n",
       "    }\n",
       "</style>\n",
       "<table border=\"1\" class=\"dataframe\">\n",
       "  <thead>\n",
       "    <tr style=\"text-align: right;\">\n",
       "      <th></th>\n",
       "      <th>count</th>\n",
       "      <th>unique</th>\n",
       "      <th>top</th>\n",
       "      <th>freq</th>\n",
       "    </tr>\n",
       "  </thead>\n",
       "  <tbody>\n",
       "    <tr>\n",
       "      <th>video_id</th>\n",
       "      <td>11218</td>\n",
       "      <td>12</td>\n",
       "      <td>1606b0e6_1</td>\n",
       "      <td>1249</td>\n",
       "    </tr>\n",
       "    <tr>\n",
       "      <th>event</th>\n",
       "      <td>11218</td>\n",
       "      <td>5</td>\n",
       "      <td>play</td>\n",
       "      <td>3586</td>\n",
       "    </tr>\n",
       "    <tr>\n",
       "      <th>event_attributes</th>\n",
       "      <td>11218</td>\n",
       "      <td>15</td>\n",
       "      <td></td>\n",
       "      <td>6836</td>\n",
       "    </tr>\n",
       "  </tbody>\n",
       "</table>\n",
       "</div>"
      ],
      "text/plain": [
       "                  count unique         top  freq\n",
       "video_id          11218     12  1606b0e6_1  1249\n",
       "event             11218      5        play  3586\n",
       "event_attributes  11218     15              6836"
      ]
     },
     "execution_count": 34,
     "metadata": {},
     "output_type": "execute_result"
    }
   ],
   "source": [
    "train.describe(include=['O']).transpose()"
   ]
  },
  {
   "cell_type": "markdown",
   "id": "0080bbf5-5562-4d8e-b78e-fe4f57015867",
   "metadata": {},
   "source": [
    "#### Pandas Profiler"
   ]
  },
  {
   "cell_type": "code",
   "execution_count": null,
   "id": "0b61d8b9-d0f1-4cae-93eb-62891b893a6a",
   "metadata": {},
   "outputs": [],
   "source": [
    "#profile = train.profile_report(title=\"EDA Detection Passes\")\n",
    "#profile.to_file(output_file=\"EDA.html\")"
   ]
  },
  {
   "cell_type": "code",
   "execution_count": null,
   "id": "7d3a7dd7-ecf7-4f09-a350-ef3eab5d7c97",
   "metadata": {},
   "outputs": [],
   "source": []
  },
  {
   "cell_type": "code",
   "execution_count": 36,
   "id": "0f86667e-de5a-45e2-9b76-b0863e47299e",
   "metadata": {},
   "outputs": [],
   "source": [
    "df1 = pd.DataFrame([ x.replace('[','').replace(']','').replace(\"'\",'').split(',') for x in train['event_attributes'].tolist() ])"
   ]
  },
  {
   "cell_type": "code",
   "execution_count": null,
   "id": "6fb02a24-1b65-4058-8754-e2fb7fea432a",
   "metadata": {},
   "outputs": [],
   "source": []
  },
  {
   "cell_type": "code",
   "execution_count": null,
   "id": "ea6cfab7-f0fb-48c4-b197-bf3181871b2b",
   "metadata": {},
   "outputs": [],
   "source": []
  }
 ],
 "metadata": {
  "kernelspec": {
   "display_name": "Python 3 (ipykernel)",
   "language": "python",
   "name": "python3"
  },
  "language_info": {
   "codemirror_mode": {
    "name": "ipython",
    "version": 3
   },
   "file_extension": ".py",
   "mimetype": "text/x-python",
   "name": "python",
   "nbconvert_exporter": "python",
   "pygments_lexer": "ipython3",
   "version": "3.9.13"
  }
 },
 "nbformat": 4,
 "nbformat_minor": 5
}
