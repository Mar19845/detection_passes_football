{
 "cells": [
  {
   "cell_type": "markdown",
   "id": "bfb97597-7464-40c2-b7e6-14897d9ceb9d",
   "metadata": {},
   "source": [
    "## Universidad del Valle de Guatemala\n",
    "##### Integrantes\n",
    "* Juan Manuel Marroquin Alfaro 19845\n",
    "* Carlos Alberto Raxtúm Ramos 19721\n",
    "* Jose Abraham Gutierrez Corado 19111\n",
    "* Walter Danilo Saldaña Salguero 19897\n",
    "* Javier Alejandro Cotto Argueta 19324"
   ]
  },
  {
   "cell_type": "markdown",
   "id": "d7ae055a",
   "metadata": {},
   "source": [
    "## Investigación de PLN y Sistemas de Recomendación"
   ]
  },
  {
   "cell_type": "markdown",
   "id": "7764c5bc",
   "metadata": {},
   "source": [
    "Primeramente, la base de datos que escogimos esta basada en grabaciones de partidos de futbol de la liga alemana. Donde estos videos estan transcribidos\n",
    "de forma que cada evento que ocurra en el partido se almacena, junto a su tiempo del evento(en segundo) y con su tipo de evento(pase, perdida/ganancia de posesión,\n",
    "inicio y fin de la jugada, tiro libre, entre otras más). En base a esto, podemos detectar y reconocer cada tipo de evento que ocurra en un partido, en este caso\n",
    "detectaremos lo que son los pases.\n",
    "\n",
    "### Como parte de las tecnicas usadas para el Procesamiento de Lenguaje Natural, existen varias:\n",
    "\n",
    "- Tokenizar\n",
    "Esta tecnica consiste en separar cada palabra del texto  en entidades llamadas \"tokens\", de esta forma tendremos un mejor orden al trabajar con estas. Ademas de ello\n",
    "a la hora de utilizar esta tecnica, se requiere identificar que utilizaremos como token y que no, por ejemplo contar las mayusculas y minusculas como un token o dos, \n",
    "los signos de puntuación seran tokens o no, y asi sucesivamente con cualquier letra o simbolo dentro de nuestras palabras.\n",
    "\n",
    "- Tagging Part of Speech(PoS)\n",
    "Esta tecnica se le conoce asi porque practicamente es trabajar las palabras como lo hacemos en la \"vida real\". Esto se debe a que clasificamos y reconocemos oraciones\n",
    "mediante separarlas en articulo, verbo, sustantivo, adjetivo, entre otras más.\n",
    "\n",
    "- Shallow parsing\n",
    "Esta tecnica combina las dos anteriores, esto se debe a que con cada token obtenido y con cada clasificación hecha mediante PoS, se realiza un arbol que permite a la\n",
    "computadora, navegar y moverse por el facilitando asi el entendimieno del lenguaje común para formar oraciones y con ellas parrafos.\n",
    "\n",
    "- Pragmatic Analysis\n",
    "Esta tecnica es más complicada para implemenetar, pues ademas de las anteriores, se incluye una clasificación de el como se mencionan o dicen las cosas. Esto quiere decir\n",
    "que la tecnica se basa en interpretar el modo de las palabras, tales como sarcasmo, ironía, etc.\n",
    "\n",
    "- Bag of Words\n",
    "Esta tecnica combina el Tokenizar con el uso de matrices. Prácticamente llevara un conteo de las palabras que aparezcan en cierto parrafo mediante los tokens antes recabados.\n",
    "\n",
    "- word2vec\n",
    "Esta tecnica creemos que es una de las más eficientes, ya que recaba y memoriza cientos y cientos de palabras utilizadas en diferentes contextos. En base a estas, realiza\n",
    "matrices de 300 dimensiones, las cuales guardan cada palabra cerca de otras palabras similares y de esta forma crear vocabularios que pueden ser utilizados por la \n",
    "computadora para interpretar cualquier parrafo.\n",
    "\n",
    "### ¿Qué haremos?\n",
    "\n",
    "En Python existe una libreria, NLTK la cual vamos a utilizar para llevar a cabo el entendimiento de cada parrafo mediante la computadora. Preferiblemente utilizaremos\n",
    "el Tokenizar las palabras y letras, para luego interpretar cada texto que se nos brinde. Luego implementaremos otra tecnica, puede ser Bag of Word, para contar la cantidad\n",
    "de pases y asi sucecivamente hasta que logremos procesar el lenguaje natural mediante la computación.\n",
    "\n",
    "### Sistema de Recomendación\n",
    "\n",
    "Para desarrollar un sistema de recomendaciones con nuestro proyecto, nos vemos con la necesidad de apoyar a las personas a que encuentren lo que les interesa en el.\n",
    "Esto quiere decir que ya que nosotros vamos a detectar pases en partidos de futbol transcritos a texto, podemos llegar a recomendar otros eventos que ocurran dentro de \n",
    "los mismos, tales como tiros libres, tiros de esquina, fueras de juegos entre otras cosas, incluso se puede extender el proyecto a recomendar eventos ocurridos en otros\n",
    "deportes, como en el basketball o futbol americano y de esa forma ir expandiendo el proyecot a una aplicación de estadisticas futboleras internacionales."
   ]
  },
  {
   "cell_type": "markdown",
   "id": "f93d4639-c565-4c79-961b-3a57a3527841",
   "metadata": {},
   "source": [
    "import libraries"
   ]
  },
  {
   "cell_type": "code",
   "execution_count": 18,
   "id": "ebfe366c-fb74-4ae9-80bd-9e5a94df8fee",
   "metadata": {},
   "outputs": [],
   "source": [
    "import os\n",
    "import pandas as pd\n",
    "import numpy as np\n",
    "import matplotlib.pyplot as plt\n",
    "from sklearn import datasets\n",
    "from scipy.stats import norm\n",
    "import scipy.stats as stats\n",
    "import seaborn as sn\n",
    "from pandas_profiling import ProfileReport\n",
    "%matplotlib inline"
   ]
  },
  {
   "cell_type": "code",
   "execution_count": 19,
   "id": "ecef9092-c4fe-467d-940f-ae1889d5085f",
   "metadata": {},
   "outputs": [],
   "source": [
    "pd.set_option(\"display.max_columns\", None)"
   ]
  },
  {
   "cell_type": "code",
   "execution_count": 20,
   "id": "5707e56f-bca6-4e77-8695-155f4624bf06",
   "metadata": {},
   "outputs": [],
   "source": [
    "train = pd.read_csv('./videos/train.csv',low_memory=False)\n",
    "# convert Nan to empty list\n",
    "train[['event_attributes']] = train[['event_attributes']].fillna('')"
   ]
  },
  {
   "cell_type": "code",
   "execution_count": 21,
   "id": "9e6123d0-feeb-4438-ab0f-98a22153390b",
   "metadata": {},
   "outputs": [
    {
     "data": {
      "text/html": [
       "<div>\n",
       "<style scoped>\n",
       "    .dataframe tbody tr th:only-of-type {\n",
       "        vertical-align: middle;\n",
       "    }\n",
       "\n",
       "    .dataframe tbody tr th {\n",
       "        vertical-align: top;\n",
       "    }\n",
       "\n",
       "    .dataframe thead th {\n",
       "        text-align: right;\n",
       "    }\n",
       "</style>\n",
       "<table border=\"1\" class=\"dataframe\">\n",
       "  <thead>\n",
       "    <tr style=\"text-align: right;\">\n",
       "      <th></th>\n",
       "      <th>video_id</th>\n",
       "      <th>time</th>\n",
       "      <th>event</th>\n",
       "      <th>event_attributes</th>\n",
       "    </tr>\n",
       "  </thead>\n",
       "  <tbody>\n",
       "    <tr>\n",
       "      <th>0</th>\n",
       "      <td>1606b0e6_0</td>\n",
       "      <td>200.265822</td>\n",
       "      <td>start</td>\n",
       "      <td></td>\n",
       "    </tr>\n",
       "    <tr>\n",
       "      <th>1</th>\n",
       "      <td>1606b0e6_0</td>\n",
       "      <td>201.150000</td>\n",
       "      <td>challenge</td>\n",
       "      <td>['ball_action_forced']</td>\n",
       "    </tr>\n",
       "    <tr>\n",
       "      <th>2</th>\n",
       "      <td>1606b0e6_0</td>\n",
       "      <td>202.765822</td>\n",
       "      <td>end</td>\n",
       "      <td></td>\n",
       "    </tr>\n",
       "    <tr>\n",
       "      <th>3</th>\n",
       "      <td>1606b0e6_0</td>\n",
       "      <td>210.124111</td>\n",
       "      <td>start</td>\n",
       "      <td></td>\n",
       "    </tr>\n",
       "    <tr>\n",
       "      <th>4</th>\n",
       "      <td>1606b0e6_0</td>\n",
       "      <td>210.870000</td>\n",
       "      <td>challenge</td>\n",
       "      <td>['opponent_dispossessed']</td>\n",
       "    </tr>\n",
       "  </tbody>\n",
       "</table>\n",
       "</div>"
      ],
      "text/plain": [
       "     video_id        time      event           event_attributes\n",
       "0  1606b0e6_0  200.265822      start                           \n",
       "1  1606b0e6_0  201.150000  challenge     ['ball_action_forced']\n",
       "2  1606b0e6_0  202.765822        end                           \n",
       "3  1606b0e6_0  210.124111      start                           \n",
       "4  1606b0e6_0  210.870000  challenge  ['opponent_dispossessed']"
      ]
     },
     "execution_count": 21,
     "metadata": {},
     "output_type": "execute_result"
    }
   ],
   "source": [
    "train.head()"
   ]
  },
  {
   "cell_type": "markdown",
   "id": "0510359a-a286-4b0f-85b3-37aea8565d2d",
   "metadata": {},
   "source": [
    "#### Pequena informacion de los datos antes de manipularlos"
   ]
  },
  {
   "cell_type": "code",
   "execution_count": 22,
   "id": "4f863af3-8d30-440a-b4b7-b23b436127c3",
   "metadata": {},
   "outputs": [
    {
     "data": {
      "text/html": [
       "<div>\n",
       "<style scoped>\n",
       "    .dataframe tbody tr th:only-of-type {\n",
       "        vertical-align: middle;\n",
       "    }\n",
       "\n",
       "    .dataframe tbody tr th {\n",
       "        vertical-align: top;\n",
       "    }\n",
       "\n",
       "    .dataframe thead th {\n",
       "        text-align: right;\n",
       "    }\n",
       "</style>\n",
       "<table border=\"1\" class=\"dataframe\">\n",
       "  <thead>\n",
       "    <tr style=\"text-align: right;\">\n",
       "      <th></th>\n",
       "      <th>count</th>\n",
       "      <th>mean</th>\n",
       "      <th>std</th>\n",
       "      <th>min</th>\n",
       "      <th>25%</th>\n",
       "      <th>50%</th>\n",
       "      <th>75%</th>\n",
       "      <th>max</th>\n",
       "    </tr>\n",
       "  </thead>\n",
       "  <tbody>\n",
       "    <tr>\n",
       "      <th>time</th>\n",
       "      <td>11218.0</td>\n",
       "      <td>1787.796418</td>\n",
       "      <td>860.84597</td>\n",
       "      <td>175.025822</td>\n",
       "      <td>1050.63525</td>\n",
       "      <td>1769.089449</td>\n",
       "      <td>2527.93275</td>\n",
       "      <td>3575.000727</td>\n",
       "    </tr>\n",
       "  </tbody>\n",
       "</table>\n",
       "</div>"
      ],
      "text/plain": [
       "        count         mean        std         min         25%          50%  \\\n",
       "time  11218.0  1787.796418  860.84597  175.025822  1050.63525  1769.089449   \n",
       "\n",
       "             75%          max  \n",
       "time  2527.93275  3575.000727  "
      ]
     },
     "execution_count": 22,
     "metadata": {},
     "output_type": "execute_result"
    }
   ],
   "source": [
    "train.describe().transpose()"
   ]
  },
  {
   "cell_type": "code",
   "execution_count": 23,
   "id": "f93be950-6078-4e12-b713-12a36222df93",
   "metadata": {},
   "outputs": [
    {
     "data": {
      "text/html": [
       "<div>\n",
       "<style scoped>\n",
       "    .dataframe tbody tr th:only-of-type {\n",
       "        vertical-align: middle;\n",
       "    }\n",
       "\n",
       "    .dataframe tbody tr th {\n",
       "        vertical-align: top;\n",
       "    }\n",
       "\n",
       "    .dataframe thead th {\n",
       "        text-align: right;\n",
       "    }\n",
       "</style>\n",
       "<table border=\"1\" class=\"dataframe\">\n",
       "  <thead>\n",
       "    <tr style=\"text-align: right;\">\n",
       "      <th></th>\n",
       "      <th>count</th>\n",
       "      <th>unique</th>\n",
       "      <th>top</th>\n",
       "      <th>freq</th>\n",
       "    </tr>\n",
       "  </thead>\n",
       "  <tbody>\n",
       "    <tr>\n",
       "      <th>video_id</th>\n",
       "      <td>11218</td>\n",
       "      <td>12</td>\n",
       "      <td>1606b0e6_1</td>\n",
       "      <td>1249</td>\n",
       "    </tr>\n",
       "    <tr>\n",
       "      <th>event</th>\n",
       "      <td>11218</td>\n",
       "      <td>5</td>\n",
       "      <td>play</td>\n",
       "      <td>3586</td>\n",
       "    </tr>\n",
       "    <tr>\n",
       "      <th>event_attributes</th>\n",
       "      <td>11218</td>\n",
       "      <td>15</td>\n",
       "      <td></td>\n",
       "      <td>6836</td>\n",
       "    </tr>\n",
       "  </tbody>\n",
       "</table>\n",
       "</div>"
      ],
      "text/plain": [
       "                  count unique         top  freq\n",
       "video_id          11218     12  1606b0e6_1  1249\n",
       "event             11218      5        play  3586\n",
       "event_attributes  11218     15              6836"
      ]
     },
     "execution_count": 23,
     "metadata": {},
     "output_type": "execute_result"
    }
   ],
   "source": [
    "train.describe(include=['O']).transpose()"
   ]
  },
  {
   "cell_type": "markdown",
   "id": "6a7820fc",
   "metadata": {},
   "source": [
    "## Analisis Exploratorio"
   ]
  },
  {
   "cell_type": "markdown",
   "id": "e0b14b66",
   "metadata": {},
   "source": [
    "### Conteo de la clasificacion de tipo de eventos "
   ]
  },
  {
   "cell_type": "markdown",
   "id": "3a51a6e9",
   "metadata": {},
   "source": [
    "#### Grafica\n",
    "\n",
    "En esta grafica lo que hacemos es identificar cuales son los posibles eventos dentro del dataframe y hacer un conteo de los mismos"
   ]
  },
  {
   "cell_type": "code",
   "execution_count": 24,
   "id": "4331fac7",
   "metadata": {},
   "outputs": [
    {
     "data": {
      "text/plain": [
       "<AxesSubplot:xlabel='count', ylabel='event'>"
      ]
     },
     "execution_count": 24,
     "metadata": {},
     "output_type": "execute_result"
    },
    {
     "data": {
      "image/png": "[encoded data removed]",
      "text/plain": [
       "<Figure size 1152x360 with 1 Axes>"
      ]
     },
     "metadata": {
      "needs_background": "light"
     },
     "output_type": "display_data"
    }
   ],
   "source": [
    "plt.figure(figsize=(16, 5))\n",
    "sn.countplot(data=train, y=\"event\")"
   ]
  },
  {
   "cell_type": "markdown",
   "id": "ed4e2f40",
   "metadata": {},
   "source": [
    "#### Tabla de conteo"
   ]
  },
  {
   "cell_type": "code",
   "execution_count": 25,
   "id": "4ddb0583",
   "metadata": {},
   "outputs": [
    {
     "data": {
      "text/plain": [
       "challenge     624\n",
       "end          3418\n",
       "play         3586\n",
       "start        3418\n",
       "throwin       172\n",
       "Name: event, dtype: int64"
      ]
     },
     "execution_count": 25,
     "metadata": {},
     "output_type": "execute_result"
    }
   ],
   "source": [
    "train['event'].value_counts().sort_index()"
   ]
  },
  {
   "cell_type": "markdown",
   "id": "8d64893a",
   "metadata": {},
   "source": [
    "#### Grafica de conteo de tipo de eventos por video"
   ]
  },
  {
   "cell_type": "code",
   "execution_count": 32,
   "id": "7564d034",
   "metadata": {},
   "outputs": [
    {
     "data": {
      "text/plain": [
       "<AxesSubplot:xlabel='video_id', ylabel='count'>"
      ]
     },
     "execution_count": 32,
     "metadata": {},
     "output_type": "execute_result"
    },
    {
     "data": {
      "image/png": "[encoded data removed]",
      "text/plain": [
       "<Figure size 1152x360 with 1 Axes>"
      ]
     },
     "metadata": {
      "needs_background": "light"
     },
     "output_type": "display_data"
    }
   ],
   "source": [
    "plt.figure(figsize=(16, 5))\n",
    "sn.countplot(data=train, x=\"video_id\", hue=\"event\")"
   ]
  },
  {
   "cell_type": "markdown",
   "id": "706f6202",
   "metadata": {},
   "source": [
    "La primera grafica de barras no nos da mayor informacion mas que, que tipo de eventos ocurren a nivel general en los clips. Sin embargo, en la segunda grafica se puede que ocurre especificamente en cada clip. Esto nos ayudara a tener una base si nuestras predicciones son correctas respecto a estos mismos.\n",
    "\n",
    "Lo que haremos es calcular cuántos eventos hay en un clip => Clip significa [Inicio ~ Fin] en la anotación train.csv\n",
    "Los números de inicio y final son los mismos, así que haga que cada lista de valores => pares de (inicio y final) tengan el mismo índice de lista Y luego reste el mismo índice entre dos listas => (resultado-1) ¡será el número medio de eventos en un clip!"
   ]
  },
  {
   "cell_type": "markdown",
   "id": "b4c7484b",
   "metadata": {},
   "source": [
    "### Conteo de la clasificacion de tipo de atributos"
   ]
  },
  {
   "cell_type": "markdown",
   "id": "c8a23cec",
   "metadata": {},
   "source": [
    "#### Grafica\n",
    "en esta grafica mostramos los atributos del evento, asi como pass, tiro etc"
   ]
  },
  {
   "cell_type": "code",
   "execution_count": 19,
   "id": "7ee4255d",
   "metadata": {},
   "outputs": [
    {
     "data": {
      "text/plain": [
       "<AxesSubplot:xlabel='count', ylabel='event_attributes'>"
      ]
     },
     "execution_count": 19,
     "metadata": {},
     "output_type": "execute_result"
    },
    {
     "data": {
      "image/png": "[encoded data removed]",
      "text/plain": [
       "<Figure size 1600x500 with 1 Axes>"
      ]
     },
     "metadata": {},
     "output_type": "display_data"
    }
   ],
   "source": [
    "plt.figure(figsize=(16, 5))\n",
    "sn.countplot(data=train, y=\"event_attributes\")"
   ]
  },
  {
   "cell_type": "markdown",
   "id": "386089e3",
   "metadata": {},
   "source": [
    "#### Conteo"
   ]
  },
  {
   "cell_type": "code",
   "execution_count": 27,
   "id": "dfbe94ad",
   "metadata": {},
   "outputs": [
    {
     "data": {
      "text/plain": [
       "                                      6836\n",
       "['ball_action_forced']                 239\n",
       "['challenge_during_ball_transfer']      53\n",
       "['cross', 'corner']                     33\n",
       "['cross', 'freekick']                    5\n",
       "['cross', 'openplay']                   80\n",
       "['cross']                               18\n",
       "['fouled']                             111\n",
       "['opponent_dispossessed']              138\n",
       "['opponent_rounded']                    39\n",
       "['pass', 'corner']                       4\n",
       "['pass', 'freekick']                   127\n",
       "['pass', 'openplay']                  3337\n",
       "['pass']                               154\n",
       "['possession_retained']                 44\n",
       "Name: event_attributes, dtype: int64"
      ]
     },
     "execution_count": 27,
     "metadata": {},
     "output_type": "execute_result"
    }
   ],
   "source": [
    "train['event_attributes'].value_counts().sort_index()"
   ]
  },
  {
   "cell_type": "markdown",
   "id": "a10c7607",
   "metadata": {},
   "source": [
    "Esta grafica hacemos el recuento por id_de video cuantos acciones tuvieron un inicio y un fin"
   ]
  },
  {
   "cell_type": "code",
   "execution_count": 22,
   "id": "7f6c9d76",
   "metadata": {},
   "outputs": [
    {
     "data": {
      "text/plain": [
       "<AxesSubplot:xlabel='count', ylabel='video_id'>"
      ]
     },
     "execution_count": 22,
     "metadata": {},
     "output_type": "execute_result"
    },
    {
     "data": {
      "image/png": "[encoded data removed]",
      "text/plain": [
       "<Figure size 1600x500 with 1 Axes>"
      ]
     },
     "metadata": {},
     "output_type": "display_data"
    }
   ],
   "source": [
    "plt.figure(figsize=(16, 5))\n",
    "sn.countplot(data=train[(train[\"event\"] != \"start\") & (train[\"event\"] != \"end\")], y=\"video_id\")"
   ]
  },
  {
   "cell_type": "code",
   "execution_count": 11,
   "id": "93136ee6",
   "metadata": {},
   "outputs": [
    {
     "data": {
      "text/html": [
       "<div>\n",
       "<style scoped>\n",
       "    .dataframe tbody tr th:only-of-type {\n",
       "        vertical-align: middle;\n",
       "    }\n",
       "\n",
       "    .dataframe tbody tr th {\n",
       "        vertical-align: top;\n",
       "    }\n",
       "\n",
       "    .dataframe thead th {\n",
       "        text-align: right;\n",
       "    }\n",
       "</style>\n",
       "<table border=\"1\" class=\"dataframe\">\n",
       "  <thead>\n",
       "    <tr style=\"text-align: right;\">\n",
       "      <th></th>\n",
       "      <th></th>\n",
       "      <th>event_attributes</th>\n",
       "    </tr>\n",
       "    <tr>\n",
       "      <th>event</th>\n",
       "      <th>event_attributes</th>\n",
       "      <th></th>\n",
       "    </tr>\n",
       "  </thead>\n",
       "  <tbody>\n",
       "    <tr>\n",
       "      <th rowspan=\"6\" valign=\"top\">challenge</th>\n",
       "      <th>['ball_action_forced']</th>\n",
       "      <td>239</td>\n",
       "    </tr>\n",
       "    <tr>\n",
       "      <th>['challenge_during_ball_transfer']</th>\n",
       "      <td>53</td>\n",
       "    </tr>\n",
       "    <tr>\n",
       "      <th>['fouled']</th>\n",
       "      <td>111</td>\n",
       "    </tr>\n",
       "    <tr>\n",
       "      <th>['opponent_dispossessed']</th>\n",
       "      <td>138</td>\n",
       "    </tr>\n",
       "    <tr>\n",
       "      <th>['opponent_rounded']</th>\n",
       "      <td>39</td>\n",
       "    </tr>\n",
       "    <tr>\n",
       "      <th>['possession_retained']</th>\n",
       "      <td>44</td>\n",
       "    </tr>\n",
       "    <tr>\n",
       "      <th>end</th>\n",
       "      <th></th>\n",
       "      <td>3418</td>\n",
       "    </tr>\n",
       "    <tr>\n",
       "      <th rowspan=\"6\" valign=\"top\">play</th>\n",
       "      <th>['cross', 'corner']</th>\n",
       "      <td>33</td>\n",
       "    </tr>\n",
       "    <tr>\n",
       "      <th>['cross', 'freekick']</th>\n",
       "      <td>5</td>\n",
       "    </tr>\n",
       "    <tr>\n",
       "      <th>['cross', 'openplay']</th>\n",
       "      <td>80</td>\n",
       "    </tr>\n",
       "    <tr>\n",
       "      <th>['pass', 'corner']</th>\n",
       "      <td>4</td>\n",
       "    </tr>\n",
       "    <tr>\n",
       "      <th>['pass', 'freekick']</th>\n",
       "      <td>127</td>\n",
       "    </tr>\n",
       "    <tr>\n",
       "      <th>['pass', 'openplay']</th>\n",
       "      <td>3337</td>\n",
       "    </tr>\n",
       "    <tr>\n",
       "      <th>start</th>\n",
       "      <th></th>\n",
       "      <td>3418</td>\n",
       "    </tr>\n",
       "    <tr>\n",
       "      <th rowspan=\"2\" valign=\"top\">throwin</th>\n",
       "      <th>['cross']</th>\n",
       "      <td>18</td>\n",
       "    </tr>\n",
       "    <tr>\n",
       "      <th>['pass']</th>\n",
       "      <td>154</td>\n",
       "    </tr>\n",
       "  </tbody>\n",
       "</table>\n",
       "</div>"
      ],
      "text/plain": [
       "                                              event_attributes\n",
       "event     event_attributes                                    \n",
       "challenge ['ball_action_forced']                           239\n",
       "          ['challenge_during_ball_transfer']                53\n",
       "          ['fouled']                                       111\n",
       "          ['opponent_dispossessed']                        138\n",
       "          ['opponent_rounded']                              39\n",
       "          ['possession_retained']                           44\n",
       "end                                                       3418\n",
       "play      ['cross', 'corner']                               33\n",
       "          ['cross', 'freekick']                              5\n",
       "          ['cross', 'openplay']                             80\n",
       "          ['pass', 'corner']                                 4\n",
       "          ['pass', 'freekick']                             127\n",
       "          ['pass', 'openplay']                            3337\n",
       "start                                                     3418\n",
       "throwin   ['cross']                                         18\n",
       "          ['pass']                                         154"
      ]
     },
     "execution_count": 11,
     "metadata": {},
     "output_type": "execute_result"
    }
   ],
   "source": [
    "train.groupby('event')['event_attributes'].value_counts().to_frame().sort_index()"
   ]
  },
  {
   "cell_type": "code",
   "execution_count": 12,
   "id": "c70c800a",
   "metadata": {},
   "outputs": [
    {
     "data": {
      "text/html": [
       "<div>\n",
       "<style scoped>\n",
       "    .dataframe tbody tr th:only-of-type {\n",
       "        vertical-align: middle;\n",
       "    }\n",
       "\n",
       "    .dataframe tbody tr th {\n",
       "        vertical-align: top;\n",
       "    }\n",
       "\n",
       "    .dataframe thead th {\n",
       "        text-align: right;\n",
       "    }\n",
       "</style>\n",
       "<table border=\"1\" class=\"dataframe\">\n",
       "  <thead>\n",
       "    <tr style=\"text-align: right;\">\n",
       "      <th></th>\n",
       "      <th>video_id</th>\n",
       "      <th>time</th>\n",
       "      <th>event</th>\n",
       "      <th>event_attributes</th>\n",
       "      <th>event_id</th>\n",
       "    </tr>\n",
       "  </thead>\n",
       "  <tbody>\n",
       "    <tr>\n",
       "      <th>0</th>\n",
       "      <td>1606b0e6_0</td>\n",
       "      <td>200.265822</td>\n",
       "      <td>start</td>\n",
       "      <td></td>\n",
       "      <td>0</td>\n",
       "    </tr>\n",
       "    <tr>\n",
       "      <th>1</th>\n",
       "      <td>1606b0e6_0</td>\n",
       "      <td>201.150000</td>\n",
       "      <td>challenge</td>\n",
       "      <td>['ball_action_forced']</td>\n",
       "      <td>0</td>\n",
       "    </tr>\n",
       "    <tr>\n",
       "      <th>2</th>\n",
       "      <td>1606b0e6_0</td>\n",
       "      <td>202.765822</td>\n",
       "      <td>end</td>\n",
       "      <td></td>\n",
       "      <td>0</td>\n",
       "    </tr>\n",
       "    <tr>\n",
       "      <th>3</th>\n",
       "      <td>1606b0e6_0</td>\n",
       "      <td>210.124111</td>\n",
       "      <td>start</td>\n",
       "      <td></td>\n",
       "      <td>1</td>\n",
       "    </tr>\n",
       "    <tr>\n",
       "      <th>4</th>\n",
       "      <td>1606b0e6_0</td>\n",
       "      <td>210.870000</td>\n",
       "      <td>challenge</td>\n",
       "      <td>['opponent_dispossessed']</td>\n",
       "      <td>1</td>\n",
       "    </tr>\n",
       "    <tr>\n",
       "      <th>...</th>\n",
       "      <td>...</td>\n",
       "      <td>...</td>\n",
       "      <td>...</td>\n",
       "      <td>...</td>\n",
       "      <td>...</td>\n",
       "    </tr>\n",
       "    <tr>\n",
       "      <th>11213</th>\n",
       "      <td>ecf251d4_0</td>\n",
       "      <td>3056.587000</td>\n",
       "      <td>challenge</td>\n",
       "      <td>['opponent_dispossessed']</td>\n",
       "      <td>3416</td>\n",
       "    </tr>\n",
       "    <tr>\n",
       "      <th>11214</th>\n",
       "      <td>ecf251d4_0</td>\n",
       "      <td>3058.072895</td>\n",
       "      <td>end</td>\n",
       "      <td></td>\n",
       "      <td>3416</td>\n",
       "    </tr>\n",
       "    <tr>\n",
       "      <th>11215</th>\n",
       "      <td>ecf251d4_0</td>\n",
       "      <td>3068.280519</td>\n",
       "      <td>start</td>\n",
       "      <td></td>\n",
       "      <td>3417</td>\n",
       "    </tr>\n",
       "    <tr>\n",
       "      <th>11216</th>\n",
       "      <td>ecf251d4_0</td>\n",
       "      <td>3069.547000</td>\n",
       "      <td>throwin</td>\n",
       "      <td>['pass']</td>\n",
       "      <td>3417</td>\n",
       "    </tr>\n",
       "    <tr>\n",
       "      <th>11217</th>\n",
       "      <td>ecf251d4_0</td>\n",
       "      <td>3070.780519</td>\n",
       "      <td>end</td>\n",
       "      <td></td>\n",
       "      <td>3417</td>\n",
       "    </tr>\n",
       "  </tbody>\n",
       "</table>\n",
       "<p>11218 rows × 5 columns</p>\n",
       "</div>"
      ],
      "text/plain": [
       "         video_id         time      event           event_attributes  event_id\n",
       "0      1606b0e6_0   200.265822      start                                    0\n",
       "1      1606b0e6_0   201.150000  challenge     ['ball_action_forced']         0\n",
       "2      1606b0e6_0   202.765822        end                                    0\n",
       "3      1606b0e6_0   210.124111      start                                    1\n",
       "4      1606b0e6_0   210.870000  challenge  ['opponent_dispossessed']         1\n",
       "...           ...          ...        ...                        ...       ...\n",
       "11213  ecf251d4_0  3056.587000  challenge  ['opponent_dispossessed']      3416\n",
       "11214  ecf251d4_0  3058.072895        end                                 3416\n",
       "11215  ecf251d4_0  3068.280519      start                                 3417\n",
       "11216  ecf251d4_0  3069.547000    throwin                   ['pass']      3417\n",
       "11217  ecf251d4_0  3070.780519        end                                 3417\n",
       "\n",
       "[11218 rows x 5 columns]"
      ]
     },
     "execution_count": 12,
     "metadata": {},
     "output_type": "execute_result"
    }
   ],
   "source": [
    "start_idx = train[train['event']=='start'].index.values\n",
    "end_idx = train[train['event']=='end'].index.values\n",
    "\n",
    "for event_id, (start, end) in enumerate(zip(start_idx, end_idx)):\n",
    "    train.loc[start:end, 'event_id'] = int(event_id)\n",
    "    \n",
    "train['event_id'] = train['event_id'].astype('int16')\n",
    "del start_idx, end_idx\n",
    "\n",
    "train"
   ]
  },
  {
   "cell_type": "markdown",
   "id": "fc857f29",
   "metadata": {},
   "source": [
    "### Limpieza de los datos: \n",
    "- Convertir el texto a mayúsculas o a minúsculas\n",
    "- Quitar los caracteres especiales que aparecen como “#”,”@” o los apóstrofes y signos de puntuación\n",
    "- Quitar las URL\n",
    "- Revisar si hay emoticones y quitarlos\n",
    "- Quitar los artículos, preposiciones y conjunciones (stopwords)\n",
    "- Quitar números si considera que interferirán en la clasificación (quizá debería valorar si quitar o no el 911)."
   ]
  },
  {
   "cell_type": "code",
   "execution_count": null,
   "id": "d1e26c4c",
   "metadata": {},
   "outputs": [],
   "source": [
    "def cleanText(text):\n",
    "  text = text.lower()\n",
    "  text = deleteHashtag(text)\n",
    "  text = deleteURL(text)\n",
    "  text = deleteMention(text)\n",
    "  text = re.sub(r'[^\\w\\s]', '', text)\n",
    "  return text\n",
    "\n",
    "def deleteHashtag(hashtag):\n",
    "  if ('#' not in hashtag): \n",
    "    return hashtag\n",
    "\n",
    "  hashtags = re.findall(r\"#[^\\s]*\", hashtag, re.I)\n",
    "  for h in hashtags:\n",
    "    hashtag = hashtag.replace(h, '')\n",
    "  return hashtag\n",
    "\n",
    "def deleteURL(url):\n",
    "  if ('http' not in url): \n",
    "    return url\n",
    "\n",
    "  urls = re.findall(r\"http[^\\s]*\", url, re.I)\n",
    "  for u in urls:\n",
    "    url = url.replace(u, '')\n",
    "  return url\n",
    "\n",
    "def deleteMention(mention): \n",
    "  if ('@' not in mention): \n",
    "    return mention\n",
    "\n",
    "  mentions = re.findall(r\"@[^\\s]*\", mention, re.I)\n",
    "  for m in mentions:\n",
    "    mention = mention.replace(m, '')\n",
    "  return mention\n",
    "\n",
    "def remove_emoji(text):\n",
    "    emoji_pattern = re.compile(\n",
    "        '['\n",
    "        u'\\U0001F600-\\U0001F64F'  # emoticons\n",
    "        u'\\U0001F300-\\U0001F5FF'  # symbols & pictographs\n",
    "        u'\\U0001F680-\\U0001F6FF'  # transport & map symbols\n",
    "        u'\\U0001F1E0-\\U0001F1FF'  # flags (iOS)\n",
    "        u'\\U00002702-\\U000027B0'\n",
    "        u'\\U000024C2-\\U0001F251'\n",
    "        ']+',\n",
    "        flags=re.UNICODE)\n",
    "    return emoji_pattern.sub(r'', text)\n",
    "\n",
    "def remove_quotes(text):\n",
    "    quotes = re.compile(r'[^A-Za-z0-9\\s]+')\n",
    "    return re.sub(quotes, '', text)"
   ]
  },
  {
   "cell_type": "markdown",
   "id": "0080bbf5-5562-4d8e-b78e-fe4f57015867",
   "metadata": {},
   "source": [
    "#### Pandas Profiler"
   ]
  },
  {
   "cell_type": "code",
   "execution_count": 13,
   "id": "0b61d8b9-d0f1-4cae-93eb-62891b893a6a",
   "metadata": {},
   "outputs": [],
   "source": [
    "#profile = train.profile_report(title=\"EDA Detection Passes\")\n",
    "#profile.to_file(output_file=\"EDA.html\")"
   ]
  },
  {
   "cell_type": "code",
   "execution_count": 14,
   "id": "0f86667e-de5a-45e2-9b76-b0863e47299e",
   "metadata": {},
   "outputs": [],
   "source": [
    "df1 = pd.DataFrame([ x.replace('[','').replace(']','').replace(\"'\",'').split(',') for x in train['event_attributes'].tolist() ])"
   ]
  },
  {
   "cell_type": "code",
   "execution_count": 16,
   "id": "3e50d3df",
   "metadata": {},
   "outputs": [
    {
     "name": "stdout",
     "output_type": "stream",
     "text": [
      "2    2622\n",
      "3     666\n",
      "4     101\n",
      "5      21\n",
      "6       7\n",
      "7       1\n",
      "Name: event_number, dtype: int64\n"
     ]
    },
    {
     "data": {
      "text/plain": [
       "Text(0.5, 1.0, 'Distribution of Event Number in One Clip')"
      ]
     },
     "execution_count": 16,
     "metadata": {},
     "output_type": "execute_result"
    },
    {
     "data": {
      "image/png": "[encoded data removed]",
      "text/plain": [
       "<Figure size 1500x1000 with 1 Axes>"
      ]
     },
     "metadata": {},
     "output_type": "display_data"
    }
   ],
   "source": [
    "\n",
    "start_index = train.loc[train['event'] == 'start'].index\n",
    "end_index = train.loc[train['event'] == 'end'].index\n",
    "\n",
    "event_number = [end_index[i] - start_index[i] for i in range(len(start_index))]\n",
    "event_number_df = pd.DataFrame(data=event_number, columns=['event_number'])\n",
    "\n",
    "print(event_number_df['event_number'].value_counts())\n",
    "sns.set_style(style='darkgrid')\n",
    "plt.figure(figsize=(15,10))\n",
    "\n",
    "graph = sns.countplot(data=event_number_df, x='event_number')\n",
    "graph.set(ylim=(0,3000), yticks=np.arange(0,3000,100))\n",
    "graph.set(xlabel=\"Event Number in One Clip\", ylabel=\"Event number Count\")\n",
    "graph.set_title('Distribution of Event Number in One Clip', fontsize=20) "
   ]
  },
  {
   "cell_type": "markdown",
   "id": "f50b5147",
   "metadata": {},
   "source": [
    "Cada valor x - 1 => Número de evento en un clip\n",
    "Ej. x.value 2 significa que en train.csv, hay 2622 clips que tienen \"Solo un evento\"\n",
    "Ej) x.value 3 significa que en train.csv, hay 666 clips que tienen \"Dos eventos\""
   ]
  },
  {
   "cell_type": "markdown",
   "id": "c108f582",
   "metadata": {},
   "source": [
    "Hay 6 tipos de Clip (Intervalo de evento)\n",
    "\n",
    "Caso 1) Inicio - Evento 1 - Fin (2622)\n",
    "\n",
    "Caso 2) Inicio - Evento 1 - Evento 2 - Fin (666)\n",
    "\n",
    "Caso 3) Inicio - Evento 1 - Evento 2 - Evento 3 - Fin (101)\n",
    "\n",
    "Caso 4) Inicio - Evento 1 - Evento 2 - Evento 3 - Evento 4 - Fin (21)\n",
    "\n",
    "Caso 5) Inicio - Evento 1 - Evento 2 - Evento 3 - Evento 4 - Evento 5 - Fin (7)\n",
    "\n",
    "Caso 6) Inicio - Evento 1 - Evento 2 - Evento 3 - Evento 4 - Evento 5 - Evento 6 - Fin (1)"
   ]
  },
  {
   "cell_type": "code",
   "execution_count": 17,
   "id": "59d88fd4",
   "metadata": {},
   "outputs": [
    {
     "name": "stdout",
     "output_type": "stream",
     "text": [
      "event_duration\n",
      "2.50              2622\n",
      "4.99                15\n",
      "4.83                13\n",
      "4.53                11\n",
      "4.86                10\n",
      "                  ... \n",
      "6.01                 1\n",
      "6.00                 1\n",
      "5.92                 1\n",
      "5.79                 1\n",
      "13.99                1\n",
      "Length: 251, dtype: int64\n"
     ]
    }
   ],
   "source": [
    "# Paso 1.3 Calcular intervalo en tipo de clip\n",
    "# Aplicar el mismo método en el paso anterior\n",
    "start_time = list(train.loc[train['event'] == 'start'].time)\n",
    "end_time = list(train.loc[train['event'] == 'end'].time)\n",
    "\n",
    "event_duration = [np.around(end_time[i] - start_time[i],2) for i in range(len(start_time))]\n",
    "event_duration_df = pd.DataFrame(data=event_duration, columns=['event_duration'])\n",
    "print(event_duration_df.value_counts())"
   ]
  },
  {
   "cell_type": "code",
   "execution_count": null,
   "id": "1c205525",
   "metadata": {},
   "outputs": [],
   "source": []
  }
 ],
 "metadata": {
  "kernelspec": {
   "display_name": "Python 3 (ipykernel)",
   "language": "python",
   "name": "python3"
  },
  "language_info": {
   "codemirror_mode": {
    "name": "ipython",
    "version": 3
   },
   "file_extension": ".py",
   "mimetype": "text/x-python",
   "name": "python",
   "nbconvert_exporter": "python",
   "pygments_lexer": "ipython3",
   "version": "3.9.13"
  }
 },
 "nbformat": 4,
 "nbformat_minor": 5
}
